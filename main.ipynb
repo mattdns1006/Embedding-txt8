{
 "cells": [
  {
   "cell_type": "code",
   "execution_count": 1,
   "metadata": {
    "collapsed": false
   },
   "outputs": [
    {
     "name": "stderr",
     "output_type": "stream",
     "text": [
      "/Users/matt/kaggle/movie_sent/venv/lib/python3.5/importlib/_bootstrap.py:222: RuntimeWarning: compiletime version 3.6 of module 'tensorflow.python.framework.fast_tensor_util' does not match runtime version 3.5\n",
      "  return f(*args, **kwds)\n",
      "Using TensorFlow backend.\n"
     ]
    },
    {
     "data": {
      "text/html": [
       "<style>.container { width:100% !important; }</style>"
      ],
      "text/plain": [
       "<IPython.core.display.HTML object>"
      ]
     },
     "metadata": {},
     "output_type": "display_data"
    },
    {
     "name": "stdout",
     "output_type": "stream",
     "text": [
      "[nltk_data] Downloading package stopwords to /Users/matt/nltk_data...\n",
      "[nltk_data]   Package stopwords is already up-to-date!\n"
     ]
    }
   ],
   "source": [
    "import tensorflow as tf\n",
    "import numpy as np\n",
    "import numpy.random as rng\n",
    "import pandas as pd\n",
    "import os, pdb, re\n",
    "import string\n",
    "import stats\n",
    "import keras.preprocessing.text as text\n",
    "from keras.preprocessing import sequence\n",
    "from keras import utils\n",
    "float_formatter = lambda x: \"%.3f\" % x\n",
    "np.set_printoptions(linewidth=200,threshold=np.nan,formatter={'float_kind':float_formatter})\n",
    "from IPython.core.display import display, HTML\n",
    "display(HTML(\"<style>.container { width:100% !important; }</style>\"))\n",
    "pd.set_option(\"display.max_colwidth\",200)\n",
    "import matplotlib\n",
    "import matplotlib.pyplot as plt\n",
    "%matplotlib inline\n",
    "from sklearn.decomposition import PCA\n",
    "from sklearn.manifold import TSNE\n",
    "#Preprocessing\n",
    "import nltk\n",
    "nltk.download('stopwords')\n",
    "from nltk.corpus import stopwords"
   ]
  },
  {
   "cell_type": "code",
   "execution_count": 2,
   "metadata": {
    "collapsed": true
   },
   "outputs": [],
   "source": [
    "MAX_WORD_COUNT = 60\n",
    "N_OUT = 5\n",
    "BATCH_SIZE = 5\n",
    "HIDDEN_SIZE = 8\n",
    "NUM_LAYERS = 2\n",
    "INIT_SCALE = 0.05"
   ]
  },
  {
   "cell_type": "code",
   "execution_count": 3,
   "metadata": {
    "collapsed": false
   },
   "outputs": [],
   "source": [
    "fx = lambda x: pd.read_csv(x,delimiter=\"\\t\",header=0)\n",
    "train_df,test_df = map(fx, [\"train.tsv\",\"test.tsv\"])\n",
    "feat_names = train_df.columns.values\n",
    "#train_df.head()"
   ]
  },
  {
   "cell_type": "markdown",
   "metadata": {},
   "source": [
    "# Get full sentences from data set"
   ]
  },
  {
   "cell_type": "code",
   "execution_count": 4,
   "metadata": {
    "collapsed": false
   },
   "outputs": [],
   "source": [
    "def group_max(group):\n",
    "    idx = np.where(group[\"Phrase\"].apply(len)==group[\"Phrase\"].apply(len).max())[0][0]\n",
    "    return group[\"Phrase\"].iloc[idx]\n",
    "df = train_df.groupby(\"SentenceId\").apply(group_max).values\n",
    "#remove_stop = lambda sentence: [word for word in sentence if word not in stopwords.words('english')]"
   ]
  },
  {
   "cell_type": "markdown",
   "metadata": {},
   "source": [
    "# The Love Song of J. Alfred Prufrock"
   ]
  },
  {
   "cell_type": "code",
   "execution_count": 5,
   "metadata": {
    "collapsed": false
   },
   "outputs": [],
   "source": [
    "df = pd.read_table(\"The Love Song of J. Alfred Prufrock.txt\",header=None,names=[\"Line\"],dtype={\"Line\":str})\n",
    "txt = df[\"Line\"].values\n",
    "txt = ' \\n '.join([''.join(row) for row in txt]).lower()\n",
    "txt = re.sub(r'[^\\w\\s]',' ',txt)\n",
    "df_clean = txt.split(\"\\n\")"
   ]
  },
  {
   "cell_type": "code",
   "execution_count": 6,
   "metadata": {
    "collapsed": true
   },
   "outputs": [],
   "source": [
    "df_clean_yellow = list(filter(lambda row: \"yellow\" in row,df_clean))\n",
    "df_clean_will = list(filter(lambda row: \"will\" in row,df_clean))\n",
    "df_clean = np.concatenate((df_clean_will,df_clean_yellow))"
   ]
  },
  {
   "cell_type": "code",
   "execution_count": 29,
   "metadata": {
    "collapsed": false
   },
   "outputs": [],
   "source": [
    "class Data_obj():\n",
    "    def __init__(self,batch_size,clean_data):\n",
    "        self.epoch = 1\n",
    "        self.i = self.k = 0\n",
    "        self.batch_size = batch_size\n",
    "        self.clean_data = clean_data\n",
    "        \n",
    "        self.Tokenizer = text.Tokenizer()\n",
    "        self.Tokenizer.fit_on_texts(self.clean_data)\n",
    "        self.words = self.Tokenizer.word_index.keys()\n",
    "        self.encoded_text = self.Tokenizer.texts_to_sequences(self.clean_data)\n",
    "        \n",
    "        self.inverse_tokenizer = lambda num: list(self.Tokenizer.word_index.keys())[list(self.Tokenizer.word_index.values()).index(num)] #inverse\n",
    "        self.inverse_tokenizer_sentence = lambda sentence: list(map(self.inverse_tokenizer,sentence))\n",
    "        \n",
    "        self.vocab_size = len(self.Tokenizer.word_index) + 1\n",
    "        print(\"There are {0} unique words in data set.\".format(self.vocab_size))\n",
    "        \n",
    "    def shuffle(self):\n",
    "        rng.shuffle(self.encoded_text)\n",
    "        \n",
    "    def new_batch(self):\n",
    "        return np.zeros((self.batch_size,2)).astype(np.int32)\n",
    "    \n",
    "    def generator(self):\n",
    "        self.shuffle()\n",
    "        batch = self.new_batch()\n",
    "        self.total_examples_seen = 0\n",
    "        while True:\n",
    "            \n",
    "            self.current_sentence = self.encoded_text[self.i]\n",
    "            sentence_len = len(self.current_sentence)\n",
    "            if sentence_len < 2:\n",
    "                self.i += 1\n",
    "                continue\n",
    "            for j in range(sentence_len):\n",
    "                context = self.current_sentence[j]\n",
    "\n",
    "                if j == 0:\n",
    "                    target = self.current_sentence[j+1]\n",
    "                elif j == sentence_len - 1:\n",
    "                    target = self.current_sentence[j-1]\n",
    "                elif rng.uniform() < 0.5:\n",
    "                    target = self.current_sentence[j-1]\n",
    "                else:\n",
    "                    target = self.current_sentence[j+1]\n",
    "\n",
    "                batch[self.k,0] = context\n",
    "                batch[self.k,1] = target\n",
    "                if self.k == BATCH_SIZE - 1:\n",
    "                    self.k = 0\n",
    "                    yield batch\n",
    "                    batch = self.new_batch()\n",
    "                    self.total_examples_seen += self.batch_size\n",
    "                else:\n",
    "                    self.k += 1\n",
    "            self.i+=1\n",
    "            if self.i == len(self.encoded_text):\n",
    "                self.epoch += 1\n",
    "                self.i = 0\n",
    "                self.shuffle()  #shuffle after epoch\n",
    "                "
   ]
  },
  {
   "cell_type": "code",
   "execution_count": 30,
   "metadata": {
    "collapsed": false
   },
   "outputs": [
    {
     "name": "stdout",
     "output_type": "stream",
     "text": [
      "There are 56 unique words in data set.\n"
     ]
    }
   ],
   "source": [
    "data_obj = Data_obj(batch_size=BATCH_SIZE,clean_data=df_clean)\n",
    "generate_batch = data_obj.generator()"
   ]
  },
  {
   "cell_type": "code",
   "execution_count": 31,
   "metadata": {
    "collapsed": false
   },
   "outputs": [
    {
     "name": "stdout",
     "output_type": "stream",
     "text": [
      "[16, 32, 3, 33, 34, 35, 36, 1, 37] ['for', 'decisions', 'and', 'revisions', 'which', 'a', 'minute', 'will', 'reverse']\n",
      "[16 32] ['for', 'decisions']\n",
      "[32 16] ['decisions', 'for']\n",
      "[ 3 32] ['and', 'decisions']\n",
      "[33 34] ['revisions', 'which']\n",
      "[34 33] ['which', 'revisions']\n",
      "[2, 9, 48, 7, 18, 19, 49, 50, 2, 20, 21] ['the', 'yellow', 'fog', 'that', 'rubs', 'its', 'back', 'upon', 'the', 'window', 'panes']\n",
      "[35 34] ['a', 'which']\n",
      "[36  1] ['minute', 'will']\n",
      "[ 1 37] ['will', 'reverse']\n",
      "[37  1] ['reverse', 'will']\n",
      "[2 9] ['the', 'yellow']\n",
      "[2, 9, 48, 7, 18, 19, 49, 50, 2, 20, 21] ['the', 'yellow', 'fog', 'that', 'rubs', 'its', 'back', 'upon', 'the', 'window', 'panes']\n",
      "[ 9 48] ['yellow', 'fog']\n",
      "[48  7] ['fog', 'that']\n",
      "[ 7 48] ['that', 'fog']\n",
      "[18 19] ['rubs', 'its']\n",
      "[19 18] ['its', 'rubs']\n",
      "[2, 9, 48, 7, 18, 19, 49, 50, 2, 20, 21] ['the', 'yellow', 'fog', 'that', 'rubs', 'its', 'back', 'upon', 'the', 'window', 'panes']\n",
      "[49 50] ['back', 'upon']\n",
      "[50 49] ['upon', 'back']\n",
      "[ 2 20] ['the', 'window']\n",
      "[20 21] ['window', 'panes']\n",
      "[21 20] ['panes', 'window']\n",
      "[38, 39, 40, 41, 42, 7, 1, 17] ['am', 'an', 'attendant', 'lord', 'one', 'that', 'will', 'do']\n",
      "[38 39] ['am', 'an']\n",
      "[39 40] ['an', 'attendant']\n",
      "[40 41] ['attendant', 'lord']\n",
      "[41 40] ['lord', 'attendant']\n",
      "[42  7] ['one', 'that']\n"
     ]
    }
   ],
   "source": [
    "for i in range(5):\n",
    "    data = next(generate_batch)\n",
    "    print(data_obj.current_sentence,data_obj.inverse_tokenizer_sentence(data_obj.current_sentence))\n",
    "    for i in data:\n",
    "        print(i,data_obj.inverse_tokenizer_sentence(i))"
   ]
  },
  {
   "cell_type": "markdown",
   "metadata": {},
   "source": [
    "## Embedding layer - Turns positive integers (indexes) into dense vectors of fixed size”"
   ]
  },
  {
   "cell_type": "code",
   "execution_count": 48,
   "metadata": {
    "collapsed": false
   },
   "outputs": [],
   "source": [
    "def old():\n",
    "    #NUM_STEPS = MAX_WORD_COUNT\n",
    "    train_inputs = tf.placeholder(tf.int32,shape=[None])\n",
    "    train_labels = tf.placeholder(tf.int32,shape=[None,1])\n",
    "    embeddings = tf.Variable(tf.random_uniform([data_obj.vocab_size, HIDDEN_SIZE])) # NUmber of words by hidden\n",
    "    embed = tf.nn.embedding_lookup(embeddings, train_inputs) #lookup action on the embedding tensor, where each word in the input data set is matched with a row in the embedding tensor, with the matched embedding vector being returned within inputs.\n",
    "\n",
    "    #loss\n",
    "    num_sampled = 5\n",
    "    nce_weights = tf.Variable(\n",
    "      tf.truncated_normal([vocab_size, HIDDEN_SIZE],\n",
    "                          stddev=1.0 / np.sqrt(HIDDEN_SIZE)))\n",
    "    nce_biases = tf.Variable(tf.zeros([vocab_size]))\n",
    "    logits = tf.reduce_sum(tf.multiply(embeddings,nce_weights),1) + nce_biases\n",
    "    loss = tf.reduce_mean(tf.nn.nce_loss(weights=nce_weights,\n",
    "                     biases=nce_biases,\n",
    "                     labels=train_labels,\n",
    "                     inputs=embed,\n",
    "                     num_sampled=num_sampled,\n",
    "                     num_classes=vocab_size))\n",
    "\n",
    "    learning_rate = tf.placeholder(tf.float32,shape=[1])\n",
    "    optimizer = tf.train.GradientDescentOptimizer(learning_rate=learning_rate).minimize(loss)\n",
    "    saver = tf.train.Saver()"
   ]
  },
  {
   "cell_type": "code",
   "execution_count": 71,
   "metadata": {
    "collapsed": true
   },
   "outputs": [],
   "source": [
    "\n",
    "train_inputs = tf.placeholder(tf.int32,shape=[None])\n",
    "train_labels = tf.placeholder(tf.int32,shape=[None,1])\n",
    "embeddings = tf.Variable(tf.random_uniform([data_obj.vocab_size, HIDDEN_SIZE])) # NUmber of words by hidden\n",
    "embed = tf.nn.embedding_lookup(embeddings, train_inputs) #lookup action on the embeddin"
   ]
  },
  {
   "cell_type": "code",
   "execution_count": 72,
   "metadata": {
    "collapsed": false
   },
   "outputs": [],
   "source": [
    "weights = tf.Variable(tf.truncated_normal([data_obj.vocab_size, HIDDEN_SIZE],\n",
    "                          stddev=1.0 / np.sqrt(HIDDEN_SIZE)))\n",
    "biases = tf.Variable(tf.zeros([data_obj.vocab_size]))\n",
    "logits = tf.reduce_sum(tf.multiply(embeddings, weights), 1) + biases"
   ]
  },
  {
   "cell_type": "code",
   "execution_count": 73,
   "metadata": {
    "collapsed": false
   },
   "outputs": [],
   "source": [
    "loss = tf.reduce_mean(tf.nn.nce_loss(weights=weights,\n",
    "                 biases=biases,\n",
    "                 labels=train_labels,\n",
    "                 inputs=embed,\n",
    "                 num_sampled=num_sampled,\n",
    "                 num_classes=vocab_size))\n",
    "learning_rate = tf.placeholder(tf.float32,shape=[1])\n",
    "optimizer = tf.train.GradientDescentOptimizer(learning_rate=learning_rate).minimize(loss)\n",
    "saver = tf.train.Saver()"
   ]
  },
  {
   "cell_type": "code",
   "execution_count": 80,
   "metadata": {
    "collapsed": false,
    "scrolled": true
   },
   "outputs": [
    {
     "name": "stdout",
     "output_type": "stream",
     "text": [
      "There are 56 unique words in data set.\n",
      "0 seen with running loss of 12.461. Current epoch = 1. Current lr = 0.500\n",
      "1000 seen with running loss of 3.437. Current epoch = 10. Current lr = 0.495\n",
      "2000 seen with running loss of 1.900. Current epoch = 19. Current lr = 0.490\n",
      "3000 seen with running loss of 1.567. Current epoch = 29. Current lr = 0.485\n",
      "4000 seen with running loss of 1.411. Current epoch = 38. Current lr = 0.480\n",
      "5000 seen with running loss of 1.270. Current epoch = 48. Current lr = 0.476\n",
      "6000 seen with running loss of 1.188. Current epoch = 57. Current lr = 0.471\n",
      "7000 seen with running loss of 1.165. Current epoch = 67. Current lr = 0.466\n",
      "8000 seen with running loss of 1.155. Current epoch = 76. Current lr = 0.462\n",
      "9000 seen with running loss of 1.069. Current epoch = 85. Current lr = 0.457\n",
      "10000 seen with running loss of 1.111. Current epoch = 95. Current lr = 0.453\n",
      "11000 seen with running loss of 1.064. Current epoch = 104. Current lr = 0.448\n",
      "12000 seen with running loss of 1.095. Current epoch = 114. Current lr = 0.444\n",
      "13000 seen with running loss of 1.015. Current epoch = 123. Current lr = 0.439\n",
      "14000 seen with running loss of 1.064. Current epoch = 133. Current lr = 0.435\n",
      "15000 seen with running loss of 1.071. Current epoch = 142. Current lr = 0.431\n",
      "Finished.\n"
     ]
    }
   ],
   "source": [
    "with tf.Session() as sess:\n",
    "    init = tf.global_variables_initializer()\n",
    "    sess.run(init)\n",
    "    embeddings_before = embeddings.eval()\n",
    "    data_obj = Data_obj(batch_size=BATCH_SIZE,clean_data=df_clean)\n",
    "    generate_batch = data_obj.generator()\n",
    "    cur_losses = []\n",
    "    lr = np.array([0.5])\n",
    "    while True:\n",
    "        data = next(generate_batch)\n",
    "        feed_dict = {train_inputs: data[:,0],train_labels:data[:,[1]],learning_rate:lr}\n",
    "        _, cur_loss = sess.run([optimizer, loss], feed_dict=feed_dict)\n",
    "        cur_losses.append(cur_loss)\n",
    "        if data_obj.total_examples_seen % 1000 == 0:\n",
    "            print(\"{0} seen with running loss of {1:.3f}. Current epoch = {2}. Current lr = {3:.3f}\".format(data_obj.total_examples_seen,np.mean(cur_losses),data_obj.epoch,lr[0]))\n",
    "            cur_losses = []\n",
    "            lr /= 1.01\n",
    "        if data_obj.epoch == 150:\n",
    "            print(\"Finished.\")\n",
    "            break\n",
    "    save_path = saver.save(sess, \"/tmp/model.ckpt\")\n",
    "    idx = np.arange(1,vocab_size)\n",
    "    learnt_embed = embed.eval(feed_dict={train_inputs:idx})\n",
    "    learnt_embeddings = embeddings.eval()"
   ]
  },
  {
   "cell_type": "code",
   "execution_count": 81,
   "metadata": {
    "collapsed": false
   },
   "outputs": [
    {
     "data": {
      "text/html": [
       "<div>\n",
       "<style scoped>\n",
       "    .dataframe tbody tr th:only-of-type {\n",
       "        vertical-align: middle;\n",
       "    }\n",
       "\n",
       "    .dataframe tbody tr th {\n",
       "        vertical-align: top;\n",
       "    }\n",
       "\n",
       "    .dataframe thead th {\n",
       "        text-align: right;\n",
       "    }\n",
       "</style>\n",
       "<table border=\"1\" class=\"dataframe\">\n",
       "  <thead>\n",
       "    <tr style=\"text-align: right;\">\n",
       "      <th></th>\n",
       "      <th>0</th>\n",
       "    </tr>\n",
       "  </thead>\n",
       "  <tbody>\n",
       "    <tr>\n",
       "      <th>0</th>\n",
       "      <td>and indeed there will be time</td>\n",
       "    </tr>\n",
       "    <tr>\n",
       "      <th>1</th>\n",
       "      <td>there will be time  there will be time</td>\n",
       "    </tr>\n",
       "    <tr>\n",
       "      <th>2</th>\n",
       "      <td>there will be time to murder and create</td>\n",
       "    </tr>\n",
       "    <tr>\n",
       "      <th>3</th>\n",
       "      <td>and indeed there will be time</td>\n",
       "    </tr>\n",
       "    <tr>\n",
       "      <th>4</th>\n",
       "      <td>they will say   how his hair is growing thin</td>\n",
       "    </tr>\n",
       "    <tr>\n",
       "      <th>5</th>\n",
       "      <td>they will say   but how his arms and legs are thin</td>\n",
       "    </tr>\n",
       "    <tr>\n",
       "      <th>6</th>\n",
       "      <td>for decisions and revisions which a minute will reverse</td>\n",
       "    </tr>\n",
       "    <tr>\n",
       "      <th>7</th>\n",
       "      <td>am an attendant lord  one that will do</td>\n",
       "    </tr>\n",
       "    <tr>\n",
       "      <th>8</th>\n",
       "      <td>i do not think that they will sing to me</td>\n",
       "    </tr>\n",
       "    <tr>\n",
       "      <th>9</th>\n",
       "      <td>the yellow fog that rubs its back upon the window panes</td>\n",
       "    </tr>\n",
       "    <tr>\n",
       "      <th>10</th>\n",
       "      <td>the yellow smoke that rubs its muzzle on the window panes</td>\n",
       "    </tr>\n",
       "    <tr>\n",
       "      <th>11</th>\n",
       "      <td>for the yellow smoke that slides along the street</td>\n",
       "    </tr>\n",
       "  </tbody>\n",
       "</table>\n",
       "</div>"
      ],
      "text/plain": [
       "                                                               0\n",
       "0                                 and indeed there will be time \n",
       "1                        there will be time  there will be time \n",
       "2                      there will be time to murder and create  \n",
       "3                                 and indeed there will be time \n",
       "4               they will say   how his hair is growing thin    \n",
       "5         they will say   but how his arms and legs are thin    \n",
       "6      for decisions and revisions which a minute will reverse  \n",
       "7                        am an attendant lord  one that will do \n",
       "8                     i do not think that they will sing to me  \n",
       "9      the yellow fog that rubs its back upon the window panes  \n",
       "10   the yellow smoke that rubs its muzzle on the window panes  \n",
       "11           for the yellow smoke that slides along the street  "
      ]
     },
     "execution_count": 81,
     "metadata": {},
     "output_type": "execute_result"
    }
   ],
   "source": [
    "pd.DataFrame(df_clean)"
   ]
  },
  {
   "cell_type": "code",
   "execution_count": 82,
   "metadata": {
    "collapsed": false,
    "scrolled": true
   },
   "outputs": [
    {
     "name": "stdout",
     "output_type": "stream",
     "text": [
      "(56, 8)\n"
     ]
    },
    {
     "data": {
      "text/plain": [
       "array([[0.595, 0.349, 0.308, 0.090, 0.509, 0.067, 0.197, 0.815],\n",
       "       [1.769, 0.488, 0.035, 1.587, 1.276, -0.089, 0.315, 0.143],\n",
       "       [0.459, 0.353, 1.120, 1.208, -0.909, 2.130, 1.791, 0.689],\n",
       "       [1.184, 1.211, 2.710, -1.107, 1.455, 0.648, 0.088, 0.086],\n",
       "       [0.327, 0.388, 1.646, 0.376, 1.016, 1.240, -0.726, 1.733],\n",
       "       [0.407, -0.741, 1.834, 1.422, 0.762, 1.124, 0.333, 1.884],\n",
       "       [0.768, 0.850, 1.137, 2.208, 2.670, 0.013, 1.188, -0.570],\n",
       "       [1.433, 0.867, 0.435, 1.190, -0.504, 0.112, -0.336, 2.376],\n",
       "       [0.120, 0.246, 0.020, 1.408, 1.877, 1.873, -0.662, 1.665],\n",
       "       [2.612, 1.641, 0.566, 0.699, -0.411, 1.252, -0.970, 1.430],\n",
       "       [0.507, 2.790, 0.425, 2.895, 0.883, -0.270, -0.129, 0.581],\n",
       "       [2.457, -1.232, 2.515, 0.547, 0.539, 0.555, 1.143, 0.402],\n",
       "       [0.199, 0.976, 1.493, 0.163, 2.015, -0.972, 0.802, 2.611],\n",
       "       [1.058, 2.650, -0.726, 0.050, 2.018, -0.675, 1.708, 1.427],\n",
       "       [0.857, 0.919, 2.058, -0.026, 0.889, -0.625, 2.983, -0.158],\n",
       "       [2.072, 1.326, -1.819, -0.054, 0.502, 2.077, 1.594, 1.148],\n",
       "       [2.221, 1.640, 2.183, -1.054, -0.521, 1.500, 1.347, 0.144],\n",
       "       [0.201, 0.512, -0.104, -0.469, 2.780, 1.178, 0.671, 1.929],\n",
       "       [0.578, 1.332, 0.848, 1.318, 1.762, 2.872, 0.263, -0.646],\n",
       "       [0.494, 1.774, 2.049, 1.204, -1.224, -0.782, 1.140, 1.775],\n",
       "       [2.323, 3.197, 0.026, -0.892, 0.596, 1.088, -0.232, 0.871],\n",
       "       [1.376, 1.402, 2.665, 2.560, -1.077, 2.149, -0.273, 0.280],\n",
       "       [1.380, -0.319, -0.267, 1.860, 0.351, 2.825, 1.536, -0.002],\n",
       "       [-1.067, 1.562, 0.362, 1.926, 0.841, 0.698, 1.728, 0.246],\n",
       "       [-0.579, 2.858, 0.053, 1.816, 0.280, 1.027, 1.389, 0.340],\n",
       "       [0.135, 1.558, -0.801, 0.553, 0.174, -0.100, 2.139, 2.054],\n",
       "       [1.799, 0.478, -0.106, 0.431, 0.030, 0.527, 2.653, -0.517],\n",
       "       [0.560, 0.865, 0.233, -0.648, 0.134, 0.787, 2.415, 2.249],\n",
       "       [1.691, 0.971, 0.395, 0.286, 1.477, -1.232, 2.555, 0.695],\n",
       "       [-0.296, 2.836, -0.202, 1.072, 0.931, 0.118, 1.627, 0.804],\n",
       "       [0.127, 2.467, -1.234, 1.429, 0.437, 1.743, 0.934, 1.160],\n",
       "       [1.178, 1.106, 0.624, -1.556, 1.058, 0.799, 1.700, 1.528],\n",
       "       [-0.732, 1.958, -0.063, 1.543, -0.308, 1.985, 1.174, 1.298],\n",
       "       [0.203, 2.512, -0.223, 1.355, -0.017, 1.328, -0.063, 0.619],\n",
       "       [0.561, 0.277, 1.460, -0.872, 2.272, 2.034, 1.272, -0.214],\n",
       "       [0.909, 1.745, -0.986, 0.901, 0.915, 1.172, -0.471, 0.757],\n",
       "       [-0.213, -0.330, 1.442, -0.115, 2.186, 1.783, 1.302, 1.281],\n",
       "       [0.082, 0.702, 0.959, 0.807, 1.921, 0.669, 0.003, 2.497],\n",
       "       [-0.564, 2.545, 1.389, -0.772, 0.024, 1.313, 1.460, 1.451],\n",
       "       [0.527, 0.690, 2.828, 1.381, 0.653, -0.132, 0.804, -0.708],\n",
       "       [-0.874, 1.980, 1.650, -0.073, 0.398, 1.021, 0.713, 0.733],\n",
       "       [0.802, 1.394, 2.523, 1.495, 0.192, -0.969, 0.120, 0.504],\n",
       "       [0.053, 0.801, 0.768, 1.343, 1.115, 1.778, -0.278, -0.165],\n",
       "       [1.107, -0.294, -0.407, 1.934, 0.955, 0.513, 2.219, 1.789],\n",
       "       [1.226, -0.388, -0.338, 1.573, 0.199, 0.618, 1.709, 2.277],\n",
       "       [1.086, 0.168, -0.625, 0.280, 2.419, 2.326, 0.611, -0.029],\n",
       "       [-1.181, 0.164, 0.971, 1.413, 1.979, 0.696, 1.179, 1.460],\n",
       "       [-0.637, 0.214, 1.060, 2.093, 1.373, 0.704, 2.465, 0.360],\n",
       "       [1.324, -0.434, -0.422, 1.804, 0.367, 2.786, 1.163, -0.083],\n",
       "       [-0.398, 1.736, 1.624, 0.312, 0.463, 2.749, 0.991, -0.867],\n",
       "       [2.313, 1.363, 1.293, 0.018, -0.974, -0.548, 1.313, 0.880],\n",
       "       [0.456, 1.176, 1.787, 0.476, 0.334, 2.266, 0.861, -0.368],\n",
       "       [1.736, 2.320, 0.909, 0.294, -0.994, 0.131, 0.999, 0.039],\n",
       "       [1.136, 0.411, 0.356, 2.417, 0.192, 1.427, 0.443, -0.890],\n",
       "       [2.168, 0.517, 0.932, -0.556, -0.705, 1.111, 0.991, 1.270],\n",
       "       [2.721, 1.799, 0.792, -0.373, -0.214, 1.067, 0.939, 0.094]], dtype=float32)"
      ]
     },
     "execution_count": 82,
     "metadata": {},
     "output_type": "execute_result"
    }
   ],
   "source": [
    "print(learnt_embeddings.shape)\n",
    "learnt_embeddings"
   ]
  },
  {
   "cell_type": "code",
   "execution_count": null,
   "metadata": {
    "collapsed": true
   },
   "outputs": [],
   "source": [
    "with tf.Session() as sess:\n",
    "    init = tf.global_variables_initializer()\n",
    "    sess.run(init)\n",
    "    #saver.restore(sess, \"/tmp/model.ckpt\")\n",
    "    print(nce_weights.eval())"
   ]
  },
  {
   "cell_type": "code",
   "execution_count": 89,
   "metadata": {
    "collapsed": false,
    "scrolled": false
   },
   "outputs": [
    {
     "name": "stdout",
     "output_type": "stream",
     "text": [
      "[[0.244 0.071 0.271 0.435 -0.591 0.513 0.058 -0.395]\n",
      " [-0.328 -0.165 -0.353 -0.066 0.413 -0.374 -0.663 0.356]\n",
      " [0.157 0.172 -0.092 -0.300 -0.211 0.070 -0.318 -0.107]\n",
      " [0.239 -0.348 -0.386 -0.556 0.079 0.120 0.160 0.600]\n",
      " [-0.335 0.236 -0.018 -0.521 0.136 -0.664 0.037 0.445]\n",
      " [0.280 -0.208 0.580 -0.249 0.058 -0.149 0.272 -0.272]\n",
      " [0.342 -0.014 0.410 -0.306 0.309 0.044 -0.270 0.342]\n",
      " [-0.347 0.202 0.211 -0.039 -0.448 -0.098 0.672 -0.204]\n",
      " [-0.206 -0.016 0.175 0.541 0.088 0.260 0.011 -0.147]\n",
      " [0.686 -0.686 0.047 -0.320 -0.352 0.390 0.049 -0.452]\n",
      " [0.378 -0.414 -0.650 -0.415 0.169 -0.479 0.097 0.427]\n",
      " [-0.511 0.132 0.021 0.170 -0.340 0.121 0.144 0.170]\n",
      " [-0.259 -0.364 -0.327 -0.113 0.441 -0.155 -0.233 0.267]\n",
      " [-0.299 0.108 0.439 0.183 0.349 0.318 0.102 -0.553]\n",
      " [0.202 -0.086 -0.257 -0.576 0.006 0.282 0.689 0.010]\n",
      " [-0.552 0.124 -0.202 -0.664 0.196 -0.435 -0.544 -0.643]\n",
      " [0.093 0.426 0.072 0.360 0.548 0.099 -0.485 0.102]\n",
      " [-0.185 0.069 -0.067 -0.417 0.618 -0.071 0.241 -0.475]\n",
      " [0.607 -0.168 0.538 0.420 0.692 0.136 -0.249 0.105]\n",
      " [-0.017 0.102 0.544 0.386 -0.261 -0.004 -0.052 0.395]\n",
      " [-0.292 0.485 0.296 -0.169 0.463 -0.013 -0.289 -0.239]\n",
      " [0.166 0.200 0.690 -0.226 -0.280 -0.014 -0.125 0.405]\n",
      " [0.436 -0.027 0.049 0.212 0.147 0.041 0.504 0.082]\n",
      " [0.682 -0.565 0.433 -0.164 -0.208 -0.138 0.204 0.152]\n",
      " [0.216 -0.595 -0.088 -0.184 0.161 0.185 0.490 -0.126]\n",
      " [-0.084 -0.151 0.247 -0.234 0.159 0.229 0.141 0.074]\n",
      " [0.462 -0.474 -0.402 0.331 -0.472 -0.126 -0.472 -0.208]\n",
      " [0.139 -0.321 0.361 -0.136 -0.379 -0.335 0.110 0.207]\n",
      " [0.229 -0.003 0.154 0.521 0.059 -0.641 0.135 -0.039]\n",
      " [-0.064 -0.177 0.209 0.234 -0.065 -0.434 -0.222 -0.616]\n",
      " [-0.378 0.416 -0.111 -0.241 -0.598 0.333 0.185 0.256]\n",
      " [0.426 0.169 -0.326 0.467 0.162 -0.067 0.006 -0.225]\n",
      " [0.492 -0.555 0.070 0.326 -0.058 -0.451 0.461 -0.336]\n",
      " [-0.225 -0.224 -0.106 0.120 -0.363 0.391 0.227 0.099]\n",
      " [-0.589 -0.386 -0.006 0.601 -0.652 0.326 0.122 0.205]\n",
      " [0.504 0.553 -0.041 -0.249 0.027 -0.206 -0.281 -0.424]\n",
      " [-0.520 -0.008 -0.514 -0.629 0.019 -0.431 -0.046 -0.117]\n",
      " [0.439 0.042 0.263 0.005 -0.052 0.042 0.615 0.209]\n",
      " [0.139 0.619 -0.002 -0.449 0.104 0.001 0.224 -0.015]\n",
      " [0.488 0.036 0.092 0.175 0.260 -0.662 -0.037 0.590]\n",
      " [-0.215 0.638 -0.266 -0.304 -0.510 -0.114 0.476 -0.400]\n",
      " [-0.169 -0.102 0.132 -0.061 0.377 -0.076 0.100 -0.029]\n",
      " [-0.036 0.149 -0.161 -0.535 -0.262 0.392 0.108 0.629]\n",
      " [-0.484 -0.202 -0.095 -0.465 0.211 -0.146 0.366 0.581]\n",
      " [0.085 0.406 -0.160 -0.161 -0.487 -0.082 -0.394 -0.136]\n",
      " [-0.278 -0.181 -0.178 -0.298 0.130 -0.257 -0.229 -0.369]\n",
      " [-0.054 -0.102 -0.110 -0.133 0.685 0.533 0.296 -0.613]\n",
      " [0.067 -0.030 0.006 0.268 0.371 0.234 0.211 -0.280]\n",
      " [-0.501 -0.132 0.102 0.569 0.227 -0.348 0.396 -0.008]\n",
      " [-0.245 -0.125 -0.138 0.118 -0.188 0.443 -0.628 -0.261]\n",
      " [0.013 0.052 0.000 0.376 0.092 0.029 0.093 0.288]\n",
      " [-0.435 0.407 -0.194 0.210 -0.167 0.456 0.331 -0.151]\n",
      " [0.186 0.048 0.246 0.140 -0.620 0.136 -0.254 -0.213]\n",
      " [-0.162 -0.229 -0.475 -0.266 -0.405 -0.461 0.494 0.388]\n",
      " [-0.343 0.243 -0.447 0.049 0.279 -0.257 -0.019 -0.076]\n",
      " [0.155 -0.162 0.183 0.071 -0.063 0.148 0.435 -0.224]]\n",
      "me 47\n",
      "[0.349 -0.208 -0.459 -0.546 -0.584 0.045 -0.616 1.117 -0.407 0.581 0.256 -0.002 0.139 0.613 0.311 0.058 0.313 -0.361 -0.582 0.040 0.494 -0.871 -0.231 0.282 -0.436 0.194 0.584 -0.227 -0.073 -0.024\n",
      " -0.557 0.426 0.123 1.199 -0.355 0.070 0.499 -0.087 -0.774 0.171 -0.735 0.549 0.626 -0.168 0.440 0.132 1.203 0.423 0.585 0.078 -0.254 0.044 -0.238 -0.173 1.636 -0.127]\n",
      "revisions 33\n",
      "[0.349 -0.208 -0.459 -0.546 -0.584 0.045 -0.616 1.117 -0.407 0.581 0.256 -0.002 0.139 0.613 0.311 0.058 0.313 -0.361 -0.582 0.040 0.494 -0.871 -0.231 0.282 -0.436 0.194 0.584 -0.227 -0.073 -0.024\n",
      " -0.557 0.426 0.123 1.199 -0.355 0.070 0.499 -0.087 -0.774 0.171 -0.735 0.549 0.626 -0.168 0.440 0.132 1.203 0.423 0.585 0.078 -0.254 0.044 -0.238 -0.173 1.636 -0.127]\n",
      "panes 21\n",
      "[0.349 -0.208 -0.459 -0.546 -0.584 0.045 -0.616 1.117 -0.407 0.581 0.256 -0.002 0.139 0.613 0.311 0.058 0.313 -0.361 -0.582 0.040 0.494 -0.871 -0.231 0.282 -0.436 0.194 0.584 -0.227 -0.073 -0.024\n",
      " -0.557 0.426 0.123 1.199 -0.355 0.070 0.499 -0.087 -0.774 0.171 -0.735 0.549 0.626 -0.168 0.440 0.132 1.203 0.423 0.585 0.078 -0.254 0.044 -0.238 -0.173 1.636 -0.127]\n",
      "hair 25\n",
      "[0.349 -0.208 -0.459 -0.546 -0.584 0.045 -0.616 1.117 -0.407 0.581 0.256 -0.002 0.139 0.613 0.311 0.058 0.313 -0.361 -0.582 0.040 0.494 -0.871 -0.231 0.282 -0.436 0.194 0.584 -0.227 -0.073 -0.024\n",
      " -0.557 0.426 0.123 1.199 -0.355 0.070 0.499 -0.087 -0.774 0.171 -0.735 0.549 0.626 -0.168 0.440 0.132 1.203 0.423 0.585 0.078 -0.254 0.044 -0.238 -0.173 1.636 -0.127]\n",
      "on 52\n",
      "[0.349 -0.208 -0.459 -0.546 -0.584 0.045 -0.616 1.117 -0.407 0.581 0.256 -0.002 0.139 0.613 0.311 0.058 0.313 -0.361 -0.582 0.040 0.494 -0.871 -0.231 0.282 -0.436 0.194 0.584 -0.227 -0.073 -0.024\n",
      " -0.557 0.426 0.123 1.199 -0.355 0.070 0.499 -0.087 -0.774 0.171 -0.735 0.549 0.626 -0.168 0.440 0.132 1.203 0.423 0.585 0.078 -0.254 0.044 -0.238 -0.173 1.636 -0.127]\n",
      "is 26\n",
      "[0.349 -0.208 -0.459 -0.546 -0.584 0.045 -0.616 1.117 -0.407 0.581 0.256 -0.002 0.139 0.613 0.311 0.058 0.313 -0.361 -0.582 0.040 0.494 -0.871 -0.231 0.282 -0.436 0.194 0.584 -0.227 -0.073 -0.024\n",
      " -0.557 0.426 0.123 1.199 -0.355 0.070 0.499 -0.087 -0.774 0.171 -0.735 0.549 0.626 -0.168 0.440 0.132 1.203 0.423 0.585 0.078 -0.254 0.044 -0.238 -0.173 1.636 -0.127]\n",
      "time 6\n",
      "[0.349 -0.208 -0.459 -0.546 -0.584 0.045 -0.616 1.117 -0.407 0.581 0.256 -0.002 0.139 0.613 0.311 0.058 0.313 -0.361 -0.582 0.040 0.494 -0.871 -0.231 0.282 -0.436 0.194 0.584 -0.227 -0.073 -0.024\n",
      " -0.557 0.426 0.123 1.199 -0.355 0.070 0.499 -0.087 -0.774 0.171 -0.735 0.549 0.626 -0.168 0.440 0.132 1.203 0.423 0.585 0.078 -0.254 0.044 -0.238 -0.173 1.636 -0.127]\n",
      "rubs 18\n",
      "[0.349 -0.208 -0.459 -0.546 -0.584 0.045 -0.616 1.117 -0.407 0.581 0.256 -0.002 0.139 0.613 0.311 0.058 0.313 -0.361 -0.582 0.040 0.494 -0.871 -0.231 0.282 -0.436 0.194 0.584 -0.227 -0.073 -0.024\n",
      " -0.557 0.426 0.123 1.199 -0.355 0.070 0.499 -0.087 -0.774 0.171 -0.735 0.549 0.626 -0.168 0.440 0.132 1.203 0.423 0.585 0.078 -0.254 0.044 -0.238 -0.173 1.636 -0.127]\n",
      "fog 48\n",
      "[0.349 -0.208 -0.459 -0.546 -0.584 0.045 -0.616 1.117 -0.407 0.581 0.256 -0.002 0.139 0.613 0.311 0.058 0.313 -0.361 -0.582 0.040 0.494 -0.871 -0.231 0.282 -0.436 0.194 0.584 -0.227 -0.073 -0.024\n",
      " -0.557 0.426 0.123 1.199 -0.355 0.070 0.499 -0.087 -0.774 0.171 -0.735 0.549 0.626 -0.168 0.440 0.132 1.203 0.423 0.585 0.078 -0.254 0.044 -0.238 -0.173 1.636 -0.127]\n",
      "an 39\n",
      "[0.349 -0.208 -0.459 -0.546 -0.584 0.045 -0.616 1.117 -0.407 0.581 0.256 -0.002 0.139 0.613 0.311 0.058 0.313 -0.361 -0.582 0.040 0.494 -0.871 -0.231 0.282 -0.436 0.194 0.584 -0.227 -0.073 -0.024\n",
      " -0.557 0.426 0.123 1.199 -0.355 0.070 0.499 -0.087 -0.774 0.171 -0.735 0.549 0.626 -0.168 0.440 0.132 1.203 0.423 0.585 0.078 -0.254 0.044 -0.238 -0.173 1.636 -0.127]\n",
      "are 31\n",
      "[0.349 -0.208 -0.459 -0.546 -0.584 0.045 -0.616 1.117 -0.407 0.581 0.256 -0.002 0.139 0.613 0.311 0.058 0.313 -0.361 -0.582 0.040 0.494 -0.871 -0.231 0.282 -0.436 0.194 0.584 -0.227 -0.073 -0.024\n",
      " -0.557 0.426 0.123 1.199 -0.355 0.070 0.499 -0.087 -0.774 0.171 -0.735 0.549 0.626 -0.168 0.440 0.132 1.203 0.423 0.585 0.078 -0.254 0.044 -0.238 -0.173 1.636 -0.127]\n",
      "growing 27\n",
      "[0.349 -0.208 -0.459 -0.546 -0.584 0.045 -0.616 1.117 -0.407 0.581 0.256 -0.002 0.139 0.613 0.311 0.058 0.313 -0.361 -0.582 0.040 0.494 -0.871 -0.231 0.282 -0.436 0.194 0.584 -0.227 -0.073 -0.024\n",
      " -0.557 0.426 0.123 1.199 -0.355 0.070 0.499 -0.087 -0.774 0.171 -0.735 0.549 0.626 -0.168 0.440 0.132 1.203 0.423 0.585 0.078 -0.254 0.044 -0.238 -0.173 1.636 -0.127]\n",
      "say 12\n",
      "[0.349 -0.208 -0.459 -0.546 -0.584 0.045 -0.616 1.117 -0.407 0.581 0.256 -0.002 0.139 0.613 0.311 0.058 0.313 -0.361 -0.582 0.040 0.494 -0.871 -0.231 0.282 -0.436 0.194 0.584 -0.227 -0.073 -0.024\n",
      " -0.557 0.426 0.123 1.199 -0.355 0.070 0.499 -0.087 -0.774 0.171 -0.735 0.549 0.626 -0.168 0.440 0.132 1.203 0.423 0.585 0.078 -0.254 0.044 -0.238 -0.173 1.636 -0.127]\n",
      "for 16\n",
      "[0.349 -0.208 -0.459 -0.546 -0.584 0.045 -0.616 1.117 -0.407 0.581 0.256 -0.002 0.139 0.613 0.311 0.058 0.313 -0.361 -0.582 0.040 0.494 -0.871 -0.231 0.282 -0.436 0.194 0.584 -0.227 -0.073 -0.024\n",
      " -0.557 0.426 0.123 1.199 -0.355 0.070 0.499 -0.087 -0.774 0.171 -0.735 0.549 0.626 -0.168 0.440 0.132 1.203 0.423 0.585 0.078 -0.254 0.044 -0.238 -0.173 1.636 -0.127]\n",
      "they 8\n",
      "[0.349 -0.208 -0.459 -0.546 -0.584 0.045 -0.616 1.117 -0.407 0.581 0.256 -0.002 0.139 0.613 0.311 0.058 0.313 -0.361 -0.582 0.040 0.494 -0.871 -0.231 0.282 -0.436 0.194 0.584 -0.227 -0.073 -0.024\n",
      " -0.557 0.426 0.123 1.199 -0.355 0.070 0.499 -0.087 -0.774 0.171 -0.735 0.549 0.626 -0.168 0.440 0.132 1.203 0.423 0.585 0.078 -0.254 0.044 -0.238 -0.173 1.636 -0.127]\n",
      "that 7\n",
      "[0.349 -0.208 -0.459 -0.546 -0.584 0.045 -0.616 1.117 -0.407 0.581 0.256 -0.002 0.139 0.613 0.311 0.058 0.313 -0.361 -0.582 0.040 0.494 -0.871 -0.231 0.282 -0.436 0.194 0.584 -0.227 -0.073 -0.024\n",
      " -0.557 0.426 0.123 1.199 -0.355 0.070 0.499 -0.087 -0.774 0.171 -0.735 0.549 0.626 -0.168 0.440 0.132 1.203 0.423 0.585 0.078 -0.254 0.044 -0.238 -0.173 1.636 -0.127]\n",
      "yellow 9\n",
      "[0.349 -0.208 -0.459 -0.546 -0.584 0.045 -0.616 1.117 -0.407 0.581 0.256 -0.002 0.139 0.613 0.311 0.058 0.313 -0.361 -0.582 0.040 0.494 -0.871 -0.231 0.282 -0.436 0.194 0.584 -0.227 -0.073 -0.024\n",
      " -0.557 0.426 0.123 1.199 -0.355 0.070 0.499 -0.087 -0.774 0.171 -0.735 0.549 0.626 -0.168 0.440 0.132 1.203 0.423 0.585 0.078 -0.254 0.044 -0.238 -0.173 1.636 -0.127]\n",
      "street 55\n",
      "[0.349 -0.208 -0.459 -0.546 -0.584 0.045 -0.616 1.117 -0.407 0.581 0.256 -0.002 0.139 0.613 0.311 0.058 0.313 -0.361 -0.582 0.040 0.494 -0.871 -0.231 0.282 -0.436 0.194 0.584 -0.227 -0.073 -0.024\n",
      " -0.557 0.426 0.123 1.199 -0.355 0.070 0.499 -0.087 -0.774 0.171 -0.735 0.549 0.626 -0.168 0.440 0.132 1.203 0.423 0.585 0.078 -0.254 0.044 -0.238 -0.173 1.636 -0.127]\n",
      "indeed 10\n",
      "[0.349 -0.208 -0.459 -0.546 -0.584 0.045 -0.616 1.117 -0.407 0.581 0.256 -0.002 0.139 0.613 0.311 0.058 0.313 -0.361 -0.582 0.040 0.494 -0.871 -0.231 0.282 -0.436 0.194 0.584 -0.227 -0.073 -0.024\n",
      " -0.557 0.426 0.123 1.199 -0.355 0.070 0.499 -0.087 -0.774 0.171 -0.735 0.549 0.626 -0.168 0.440 0.132 1.203 0.423 0.585 0.078 -0.254 0.044 -0.238 -0.173 1.636 -0.127]\n",
      "sing 46\n",
      "[0.349 -0.208 -0.459 -0.546 -0.584 0.045 -0.616 1.117 -0.407 0.581 0.256 -0.002 0.139 0.613 0.311 0.058 0.313 -0.361 -0.582 0.040 0.494 -0.871 -0.231 0.282 -0.436 0.194 0.584 -0.227 -0.073 -0.024\n",
      " -0.557 0.426 0.123 1.199 -0.355 0.070 0.499 -0.087 -0.774 0.171 -0.735 0.549 0.626 -0.168 0.440 0.132 1.203 0.423 0.585 0.078 -0.254 0.044 -0.238 -0.173 1.636 -0.127]\n",
      "i 43\n",
      "[0.349 -0.208 -0.459 -0.546 -0.584 0.045 -0.616 1.117 -0.407 0.581 0.256 -0.002 0.139 0.613 0.311 0.058 0.313 -0.361 -0.582 0.040 0.494 -0.871 -0.231 0.282 -0.436 0.194 0.584 -0.227 -0.073 -0.024\n",
      " -0.557 0.426 0.123 1.199 -0.355 0.070 0.499 -0.087 -0.774 0.171 -0.735 0.549 0.626 -0.168 0.440 0.132 1.203 0.423 0.585 0.078 -0.254 0.044 -0.238 -0.173 1.636 -0.127]\n",
      "attendant 40\n",
      "[0.349 -0.208 -0.459 -0.546 -0.584 0.045 -0.616 1.117 -0.407 0.581 0.256 -0.002 0.139 0.613 0.311 0.058 0.313 -0.361 -0.582 0.040 0.494 -0.871 -0.231 0.282 -0.436 0.194 0.584 -0.227 -0.073 -0.024\n",
      " -0.557 0.426 0.123 1.199 -0.355 0.070 0.499 -0.087 -0.774 0.171 -0.735 0.549 0.626 -0.168 0.440 0.132 1.203 0.423 0.585 0.078 -0.254 0.044 -0.238 -0.173 1.636 -0.127]\n",
      "upon 50\n",
      "[0.349 -0.208 -0.459 -0.546 -0.584 0.045 -0.616 1.117 -0.407 0.581 0.256 -0.002 0.139 0.613 0.311 0.058 0.313 -0.361 -0.582 0.040 0.494 -0.871 -0.231 0.282 -0.436 0.194 0.584 -0.227 -0.073 -0.024\n",
      " -0.557 0.426 0.123 1.199 -0.355 0.070 0.499 -0.087 -0.774 0.171 -0.735 0.549 0.626 -0.168 0.440 0.132 1.203 0.423 0.585 0.078 -0.254 0.044 -0.238 -0.173 1.636 -0.127]\n",
      "create 24\n",
      "[0.349 -0.208 -0.459 -0.546 -0.584 0.045 -0.616 1.117 -0.407 0.581 0.256 -0.002 0.139 0.613 0.311 0.058 0.313 -0.361 -0.582 0.040 0.494 -0.871 -0.231 0.282 -0.436 0.194 0.584 -0.227 -0.073 -0.024\n",
      " -0.557 0.426 0.123 1.199 -0.355 0.070 0.499 -0.087 -0.774 0.171 -0.735 0.549 0.626 -0.168 0.440 0.132 1.203 0.423 0.585 0.078 -0.254 0.044 -0.238 -0.173 1.636 -0.127]\n",
      "am 38\n",
      "[0.349 -0.208 -0.459 -0.546 -0.584 0.045 -0.616 1.117 -0.407 0.581 0.256 -0.002 0.139 0.613 0.311 0.058 0.313 -0.361 -0.582 0.040 0.494 -0.871 -0.231 0.282 -0.436 0.194 0.584 -0.227 -0.073 -0.024\n",
      " -0.557 0.426 0.123 1.199 -0.355 0.070 0.499 -0.087 -0.774 0.171 -0.735 0.549 0.626 -0.168 0.440 0.132 1.203 0.423 0.585 0.078 -0.254 0.044 -0.238 -0.173 1.636 -0.127]\n",
      "murder 23\n",
      "[0.349 -0.208 -0.459 -0.546 -0.584 0.045 -0.616 1.117 -0.407 0.581 0.256 -0.002 0.139 0.613 0.311 0.058 0.313 -0.361 -0.582 0.040 0.494 -0.871 -0.231 0.282 -0.436 0.194 0.584 -0.227 -0.073 -0.024\n",
      " -0.557 0.426 0.123 1.199 -0.355 0.070 0.499 -0.087 -0.774 0.171 -0.735 0.549 0.626 -0.168 0.440 0.132 1.203 0.423 0.585 0.078 -0.254 0.044 -0.238 -0.173 1.636 -0.127]\n",
      "his 14\n",
      "[0.349 -0.208 -0.459 -0.546 -0.584 0.045 -0.616 1.117 -0.407 0.581 0.256 -0.002 0.139 0.613 0.311 0.058 0.313 -0.361 -0.582 0.040 0.494 -0.871 -0.231 0.282 -0.436 0.194 0.584 -0.227 -0.073 -0.024\n",
      " -0.557 0.426 0.123 1.199 -0.355 0.070 0.499 -0.087 -0.774 0.171 -0.735 0.549 0.626 -0.168 0.440 0.132 1.203 0.423 0.585 0.078 -0.254 0.044 -0.238 -0.173 1.636 -0.127]\n",
      "muzzle 51\n",
      "[0.349 -0.208 -0.459 -0.546 -0.584 0.045 -0.616 1.117 -0.407 0.581 0.256 -0.002 0.139 0.613 0.311 0.058 0.313 -0.361 -0.582 0.040 0.494 -0.871 -0.231 0.282 -0.436 0.194 0.584 -0.227 -0.073 -0.024\n",
      " -0.557 0.426 0.123 1.199 -0.355 0.070 0.499 -0.087 -0.774 0.171 -0.735 0.549 0.626 -0.168 0.440 0.132 1.203 0.423 0.585 0.078 -0.254 0.044 -0.238 -0.173 1.636 -0.127]\n",
      "there 4\n",
      "[0.349 -0.208 -0.459 -0.546 -0.584 0.045 -0.616 1.117 -0.407 0.581 0.256 -0.002 0.139 0.613 0.311 0.058 0.313 -0.361 -0.582 0.040 0.494 -0.871 -0.231 0.282 -0.436 0.194 0.584 -0.227 -0.073 -0.024\n",
      " -0.557 0.426 0.123 1.199 -0.355 0.070 0.499 -0.087 -0.774 0.171 -0.735 0.549 0.626 -0.168 0.440 0.132 1.203 0.423 0.585 0.078 -0.254 0.044 -0.238 -0.173 1.636 -0.127]\n",
      "along 54\n",
      "[0.349 -0.208 -0.459 -0.546 -0.584 0.045 -0.616 1.117 -0.407 0.581 0.256 -0.002 0.139 0.613 0.311 0.058 0.313 -0.361 -0.582 0.040 0.494 -0.871 -0.231 0.282 -0.436 0.194 0.584 -0.227 -0.073 -0.024\n",
      " -0.557 0.426 0.123 1.199 -0.355 0.070 0.499 -0.087 -0.774 0.171 -0.735 0.549 0.626 -0.168 0.440 0.132 1.203 0.423 0.585 0.078 -0.254 0.044 -0.238 -0.173 1.636 -0.127]\n",
      "slides 53\n",
      "[0.349 -0.208 -0.459 -0.546 -0.584 0.045 -0.616 1.117 -0.407 0.581 0.256 -0.002 0.139 0.613 0.311 0.058 0.313 -0.361 -0.582 0.040 0.494 -0.871 -0.231 0.282 -0.436 0.194 0.584 -0.227 -0.073 -0.024\n",
      " -0.557 0.426 0.123 1.199 -0.355 0.070 0.499 -0.087 -0.774 0.171 -0.735 0.549 0.626 -0.168 0.440 0.132 1.203 0.423 0.585 0.078 -0.254 0.044 -0.238 -0.173 1.636 -0.127]\n",
      "reverse 37\n",
      "[0.349 -0.208 -0.459 -0.546 -0.584 0.045 -0.616 1.117 -0.407 0.581 0.256 -0.002 0.139 0.613 0.311 0.058 0.313 -0.361 -0.582 0.040 0.494 -0.871 -0.231 0.282 -0.436 0.194 0.584 -0.227 -0.073 -0.024\n",
      " -0.557 0.426 0.123 1.199 -0.355 0.070 0.499 -0.087 -0.774 0.171 -0.735 0.549 0.626 -0.168 0.440 0.132 1.203 0.423 0.585 0.078 -0.254 0.044 -0.238 -0.173 1.636 -0.127]\n",
      "and 3\n",
      "[0.349 -0.208 -0.459 -0.546 -0.584 0.045 -0.616 1.117 -0.407 0.581 0.256 -0.002 0.139 0.613 0.311 0.058 0.313 -0.361 -0.582 0.040 0.494 -0.871 -0.231 0.282 -0.436 0.194 0.584 -0.227 -0.073 -0.024\n",
      " -0.557 0.426 0.123 1.199 -0.355 0.070 0.499 -0.087 -0.774 0.171 -0.735 0.549 0.626 -0.168 0.440 0.132 1.203 0.423 0.585 0.078 -0.254 0.044 -0.238 -0.173 1.636 -0.127]\n",
      "think 45\n",
      "[0.349 -0.208 -0.459 -0.546 -0.584 0.045 -0.616 1.117 -0.407 0.581 0.256 -0.002 0.139 0.613 0.311 0.058 0.313 -0.361 -0.582 0.040 0.494 -0.871 -0.231 0.282 -0.436 0.194 0.584 -0.227 -0.073 -0.024\n",
      " -0.557 0.426 0.123 1.199 -0.355 0.070 0.499 -0.087 -0.774 0.171 -0.735 0.549 0.626 -0.168 0.440 0.132 1.203 0.423 0.585 0.078 -0.254 0.044 -0.238 -0.173 1.636 -0.127]\n",
      "arms 29\n",
      "[0.349 -0.208 -0.459 -0.546 -0.584 0.045 -0.616 1.117 -0.407 0.581 0.256 -0.002 0.139 0.613 0.311 0.058 0.313 -0.361 -0.582 0.040 0.494 -0.871 -0.231 0.282 -0.436 0.194 0.584 -0.227 -0.073 -0.024\n",
      " -0.557 0.426 0.123 1.199 -0.355 0.070 0.499 -0.087 -0.774 0.171 -0.735 0.549 0.626 -0.168 0.440 0.132 1.203 0.423 0.585 0.078 -0.254 0.044 -0.238 -0.173 1.636 -0.127]\n",
      "be 5\n",
      "[0.349 -0.208 -0.459 -0.546 -0.584 0.045 -0.616 1.117 -0.407 0.581 0.256 -0.002 0.139 0.613 0.311 0.058 0.313 -0.361 -0.582 0.040 0.494 -0.871 -0.231 0.282 -0.436 0.194 0.584 -0.227 -0.073 -0.024\n",
      " -0.557 0.426 0.123 1.199 -0.355 0.070 0.499 -0.087 -0.774 0.171 -0.735 0.549 0.626 -0.168 0.440 0.132 1.203 0.423 0.585 0.078 -0.254 0.044 -0.238 -0.173 1.636 -0.127]\n",
      "one 42\n",
      "[0.349 -0.208 -0.459 -0.546 -0.584 0.045 -0.616 1.117 -0.407 0.581 0.256 -0.002 0.139 0.613 0.311 0.058 0.313 -0.361 -0.582 0.040 0.494 -0.871 -0.231 0.282 -0.436 0.194 0.584 -0.227 -0.073 -0.024\n",
      " -0.557 0.426 0.123 1.199 -0.355 0.070 0.499 -0.087 -0.774 0.171 -0.735 0.549 0.626 -0.168 0.440 0.132 1.203 0.423 0.585 0.078 -0.254 0.044 -0.238 -0.173 1.636 -0.127]\n",
      "smoke 22\n",
      "[0.349 -0.208 -0.459 -0.546 -0.584 0.045 -0.616 1.117 -0.407 0.581 0.256 -0.002 0.139 0.613 0.311 0.058 0.313 -0.361 -0.582 0.040 0.494 -0.871 -0.231 0.282 -0.436 0.194 0.584 -0.227 -0.073 -0.024\n",
      " -0.557 0.426 0.123 1.199 -0.355 0.070 0.499 -0.087 -0.774 0.171 -0.735 0.549 0.626 -0.168 0.440 0.132 1.203 0.423 0.585 0.078 -0.254 0.044 -0.238 -0.173 1.636 -0.127]\n",
      "not 44\n",
      "[0.349 -0.208 -0.459 -0.546 -0.584 0.045 -0.616 1.117 -0.407 0.581 0.256 -0.002 0.139 0.613 0.311 0.058 0.313 -0.361 -0.582 0.040 0.494 -0.871 -0.231 0.282 -0.436 0.194 0.584 -0.227 -0.073 -0.024\n",
      " -0.557 0.426 0.123 1.199 -0.355 0.070 0.499 -0.087 -0.774 0.171 -0.735 0.549 0.626 -0.168 0.440 0.132 1.203 0.423 0.585 0.078 -0.254 0.044 -0.238 -0.173 1.636 -0.127]\n",
      "minute 36\n",
      "[0.349 -0.208 -0.459 -0.546 -0.584 0.045 -0.616 1.117 -0.407 0.581 0.256 -0.002 0.139 0.613 0.311 0.058 0.313 -0.361 -0.582 0.040 0.494 -0.871 -0.231 0.282 -0.436 0.194 0.584 -0.227 -0.073 -0.024\n",
      " -0.557 0.426 0.123 1.199 -0.355 0.070 0.499 -0.087 -0.774 0.171 -0.735 0.549 0.626 -0.168 0.440 0.132 1.203 0.423 0.585 0.078 -0.254 0.044 -0.238 -0.173 1.636 -0.127]\n",
      "which 34\n",
      "[0.349 -0.208 -0.459 -0.546 -0.584 0.045 -0.616 1.117 -0.407 0.581 0.256 -0.002 0.139 0.613 0.311 0.058 0.313 -0.361 -0.582 0.040 0.494 -0.871 -0.231 0.282 -0.436 0.194 0.584 -0.227 -0.073 -0.024\n",
      " -0.557 0.426 0.123 1.199 -0.355 0.070 0.499 -0.087 -0.774 0.171 -0.735 0.549 0.626 -0.168 0.440 0.132 1.203 0.423 0.585 0.078 -0.254 0.044 -0.238 -0.173 1.636 -0.127]\n",
      "how 13\n",
      "[0.349 -0.208 -0.459 -0.546 -0.584 0.045 -0.616 1.117 -0.407 0.581 0.256 -0.002 0.139 0.613 0.311 0.058 0.313 -0.361 -0.582 0.040 0.494 -0.871 -0.231 0.282 -0.436 0.194 0.584 -0.227 -0.073 -0.024\n",
      " -0.557 0.426 0.123 1.199 -0.355 0.070 0.499 -0.087 -0.774 0.171 -0.735 0.549 0.626 -0.168 0.440 0.132 1.203 0.423 0.585 0.078 -0.254 0.044 -0.238 -0.173 1.636 -0.127]\n",
      "lord 41\n",
      "[0.349 -0.208 -0.459 -0.546 -0.584 0.045 -0.616 1.117 -0.407 0.581 0.256 -0.002 0.139 0.613 0.311 0.058 0.313 -0.361 -0.582 0.040 0.494 -0.871 -0.231 0.282 -0.436 0.194 0.584 -0.227 -0.073 -0.024\n",
      " -0.557 0.426 0.123 1.199 -0.355 0.070 0.499 -0.087 -0.774 0.171 -0.735 0.549 0.626 -0.168 0.440 0.132 1.203 0.423 0.585 0.078 -0.254 0.044 -0.238 -0.173 1.636 -0.127]\n",
      "to 11\n",
      "[0.349 -0.208 -0.459 -0.546 -0.584 0.045 -0.616 1.117 -0.407 0.581 0.256 -0.002 0.139 0.613 0.311 0.058 0.313 -0.361 -0.582 0.040 0.494 -0.871 -0.231 0.282 -0.436 0.194 0.584 -0.227 -0.073 -0.024\n",
      " -0.557 0.426 0.123 1.199 -0.355 0.070 0.499 -0.087 -0.774 0.171 -0.735 0.549 0.626 -0.168 0.440 0.132 1.203 0.423 0.585 0.078 -0.254 0.044 -0.238 -0.173 1.636 -0.127]\n",
      "do 17\n",
      "[0.349 -0.208 -0.459 -0.546 -0.584 0.045 -0.616 1.117 -0.407 0.581 0.256 -0.002 0.139 0.613 0.311 0.058 0.313 -0.361 -0.582 0.040 0.494 -0.871 -0.231 0.282 -0.436 0.194 0.584 -0.227 -0.073 -0.024\n",
      " -0.557 0.426 0.123 1.199 -0.355 0.070 0.499 -0.087 -0.774 0.171 -0.735 0.549 0.626 -0.168 0.440 0.132 1.203 0.423 0.585 0.078 -0.254 0.044 -0.238 -0.173 1.636 -0.127]\n",
      "will 1\n",
      "[0.349 -0.208 -0.459 -0.546 -0.584 0.045 -0.616 1.117 -0.407 0.581 0.256 -0.002 0.139 0.613 0.311 0.058 0.313 -0.361 -0.582 0.040 0.494 -0.871 -0.231 0.282 -0.436 0.194 0.584 -0.227 -0.073 -0.024\n",
      " -0.557 0.426 0.123 1.199 -0.355 0.070 0.499 -0.087 -0.774 0.171 -0.735 0.549 0.626 -0.168 0.440 0.132 1.203 0.423 0.585 0.078 -0.254 0.044 -0.238 -0.173 1.636 -0.127]\n",
      "but 28\n",
      "[0.349 -0.208 -0.459 -0.546 -0.584 0.045 -0.616 1.117 -0.407 0.581 0.256 -0.002 0.139 0.613 0.311 0.058 0.313 -0.361 -0.582 0.040 0.494 -0.871 -0.231 0.282 -0.436 0.194 0.584 -0.227 -0.073 -0.024\n",
      " -0.557 0.426 0.123 1.199 -0.355 0.070 0.499 -0.087 -0.774 0.171 -0.735 0.549 0.626 -0.168 0.440 0.132 1.203 0.423 0.585 0.078 -0.254 0.044 -0.238 -0.173 1.636 -0.127]\n",
      "back 49\n",
      "[0.349 -0.208 -0.459 -0.546 -0.584 0.045 -0.616 1.117 -0.407 0.581 0.256 -0.002 0.139 0.613 0.311 0.058 0.313 -0.361 -0.582 0.040 0.494 -0.871 -0.231 0.282 -0.436 0.194 0.584 -0.227 -0.073 -0.024\n",
      " -0.557 0.426 0.123 1.199 -0.355 0.070 0.499 -0.087 -0.774 0.171 -0.735 0.549 0.626 -0.168 0.440 0.132 1.203 0.423 0.585 0.078 -0.254 0.044 -0.238 -0.173 1.636 -0.127]\n",
      "the 2\n",
      "[0.349 -0.208 -0.459 -0.546 -0.584 0.045 -0.616 1.117 -0.407 0.581 0.256 -0.002 0.139 0.613 0.311 0.058 0.313 -0.361 -0.582 0.040 0.494 -0.871 -0.231 0.282 -0.436 0.194 0.584 -0.227 -0.073 -0.024\n",
      " -0.557 0.426 0.123 1.199 -0.355 0.070 0.499 -0.087 -0.774 0.171 -0.735 0.549 0.626 -0.168 0.440 0.132 1.203 0.423 0.585 0.078 -0.254 0.044 -0.238 -0.173 1.636 -0.127]\n",
      "legs 30\n",
      "[0.349 -0.208 -0.459 -0.546 -0.584 0.045 -0.616 1.117 -0.407 0.581 0.256 -0.002 0.139 0.613 0.311 0.058 0.313 -0.361 -0.582 0.040 0.494 -0.871 -0.231 0.282 -0.436 0.194 0.584 -0.227 -0.073 -0.024\n",
      " -0.557 0.426 0.123 1.199 -0.355 0.070 0.499 -0.087 -0.774 0.171 -0.735 0.549 0.626 -0.168 0.440 0.132 1.203 0.423 0.585 0.078 -0.254 0.044 -0.238 -0.173 1.636 -0.127]\n",
      "its 19\n",
      "[0.349 -0.208 -0.459 -0.546 -0.584 0.045 -0.616 1.117 -0.407 0.581 0.256 -0.002 0.139 0.613 0.311 0.058 0.313 -0.361 -0.582 0.040 0.494 -0.871 -0.231 0.282 -0.436 0.194 0.584 -0.227 -0.073 -0.024\n",
      " -0.557 0.426 0.123 1.199 -0.355 0.070 0.499 -0.087 -0.774 0.171 -0.735 0.549 0.626 -0.168 0.440 0.132 1.203 0.423 0.585 0.078 -0.254 0.044 -0.238 -0.173 1.636 -0.127]\n",
      "window 20\n",
      "[0.349 -0.208 -0.459 -0.546 -0.584 0.045 -0.616 1.117 -0.407 0.581 0.256 -0.002 0.139 0.613 0.311 0.058 0.313 -0.361 -0.582 0.040 0.494 -0.871 -0.231 0.282 -0.436 0.194 0.584 -0.227 -0.073 -0.024\n",
      " -0.557 0.426 0.123 1.199 -0.355 0.070 0.499 -0.087 -0.774 0.171 -0.735 0.549 0.626 -0.168 0.440 0.132 1.203 0.423 0.585 0.078 -0.254 0.044 -0.238 -0.173 1.636 -0.127]\n",
      "a 35\n",
      "[0.349 -0.208 -0.459 -0.546 -0.584 0.045 -0.616 1.117 -0.407 0.581 0.256 -0.002 0.139 0.613 0.311 0.058 0.313 -0.361 -0.582 0.040 0.494 -0.871 -0.231 0.282 -0.436 0.194 0.584 -0.227 -0.073 -0.024\n",
      " -0.557 0.426 0.123 1.199 -0.355 0.070 0.499 -0.087 -0.774 0.171 -0.735 0.549 0.626 -0.168 0.440 0.132 1.203 0.423 0.585 0.078 -0.254 0.044 -0.238 -0.173 1.636 -0.127]\n",
      "thin 15\n",
      "[0.349 -0.208 -0.459 -0.546 -0.584 0.045 -0.616 1.117 -0.407 0.581 0.256 -0.002 0.139 0.613 0.311 0.058 0.313 -0.361 -0.582 0.040 0.494 -0.871 -0.231 0.282 -0.436 0.194 0.584 -0.227 -0.073 -0.024\n",
      " -0.557 0.426 0.123 1.199 -0.355 0.070 0.499 -0.087 -0.774 0.171 -0.735 0.549 0.626 -0.168 0.440 0.132 1.203 0.423 0.585 0.078 -0.254 0.044 -0.238 -0.173 1.636 -0.127]\n",
      "decisions 32\n",
      "[0.349 -0.208 -0.459 -0.546 -0.584 0.045 -0.616 1.117 -0.407 0.581 0.256 -0.002 0.139 0.613 0.311 0.058 0.313 -0.361 -0.582 0.040 0.494 -0.871 -0.231 0.282 -0.436 0.194 0.584 -0.227 -0.073 -0.024\n",
      " -0.557 0.426 0.123 1.199 -0.355 0.070 0.499 -0.087 -0.774 0.171 -0.735 0.549 0.626 -0.168 0.440 0.132 1.203 0.423 0.585 0.078 -0.254 0.044 -0.238 -0.173 1.636 -0.127]\n"
     ]
    }
   ],
   "source": [
    "with tf.Session() as sess:\n",
    "    init = tf.global_variables_initializer()\n",
    "    sess.run(init)\n",
    "    #saver.restore(sess, \"/tmp/model.ckpt\")\n",
    "    print(nce_weights.eval())\n",
    "    for word in data_obj.Tokenizer.word_index.keys():\n",
    "        word_no = data_obj.Tokenizer.word_index[word]\n",
    "        print(word,word_no)\n",
    "        logits_ = logits.eval(feed_dict={train_inputs:np.array([word_no])})\n",
    "        print(logits_)\n",
    "        #top_n = 5\n",
    "        #top_targets = logits_.argsort()[:top_n]\n",
    "        #print(top_targets)\n",
    "        #print(data_obj.inverse_tokenizer_sentence(top_targets))"
   ]
  },
  {
   "cell_type": "code",
   "execution_count": 46,
   "metadata": {
    "collapsed": false
   },
   "outputs": [],
   "source": [
    "dim_reduction = TSNE(n_components=2)\n",
    "X_embedded = dim_reduction.fit_transform(learnt_embed)\n",
    "labels = data_obj.inverse_tokenizer_sentence(idx)"
   ]
  },
  {
   "cell_type": "code",
   "execution_count": 47,
   "metadata": {
    "collapsed": false
   },
   "outputs": [
    {
     "data": {
      "image/png": "[encoded data removed]",
      "text/plain": [
       "<Figure size 2160x2160 with 1 Axes>"
      ]
     },
     "metadata": {},
     "output_type": "display_data"
    }
   ],
   "source": [
    "plt.figure(figsize=(30,30))\n",
    "plt.scatter(X_embedded[:, 0], X_embedded[:, 1], marker='o',\n",
    "    cmap=plt.get_cmap('Spectral'))\n",
    "for label, x, y in zip(labels, X_embedded[:, 0], X_embedded[:, 1]):\n",
    "    color = \"yellow\" if label in (\"have\",\"been\",\"seen\") else \"red\"\n",
    "    plt.annotate(\n",
    "        label,\n",
    "        xy=(x, y), xytext=(-20, 20),\n",
    "        textcoords='offset points', ha='right', va='bottom',\n",
    "        bbox=dict(boxstyle='round,pad=0.05', fc=color, alpha=0.5))\n",
    "        #arrowprops=dict(arrowstyle = '->', connectionstyle='arc3,rad=0'))"
   ]
  },
  {
   "cell_type": "code",
   "execution_count": null,
   "metadata": {
    "collapsed": true
   },
   "outputs": [],
   "source": []
  }
 ],
 "metadata": {
  "anaconda-cloud": {},
  "kernelspec": {
   "display_name": "venv",
   "language": "python",
   "name": "venv"
  },
  "language_info": {
   "codemirror_mode": {
    "name": "ipython",
    "version": 3
   },
   "file_extension": ".py",
   "mimetype": "text/x-python",
   "name": "python",
   "nbconvert_exporter": "python",
   "pygments_lexer": "ipython3",
   "version": "3.5.2"
  }
 },
 "nbformat": 4,
 "nbformat_minor": 2
}
