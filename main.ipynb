{
 "cells": [
  {
   "cell_type": "code",
   "execution_count": 1,
   "metadata": {
    "collapsed": false
   },
   "outputs": [
    {
     "name": "stderr",
     "output_type": "stream",
     "text": [
      "/Users/matt/kaggle/movie_sent/venv/lib/python3.5/importlib/_bootstrap.py:222: RuntimeWarning: compiletime version 3.6 of module 'tensorflow.python.framework.fast_tensor_util' does not match runtime version 3.5\n",
      "  return f(*args, **kwds)\n",
      "Using TensorFlow backend.\n"
     ]
    },
    {
     "data": {
      "text/html": [
       "<style>.container { width:100% !important; }</style>"
      ],
      "text/plain": [
       "<IPython.core.display.HTML object>"
      ]
     },
     "metadata": {},
     "output_type": "display_data"
    }
   ],
   "source": [
    "import tensorflow as tf\n",
    "import numpy as np\n",
    "import numpy.random as rng\n",
    "import pandas as pd\n",
    "import os, pdb, re\n",
    "import string\n",
    "import keras.preprocessing.text as text\n",
    "from keras.preprocessing import sequence\n",
    "from keras import utils\n",
    "np.set_printoptions(linewidth=300)\n",
    "from IPython.core.display import display, HTML\n",
    "display(HTML(\"<style>.container { width:100% !important; }</style>\"))\n",
    "from nltk.corpus import stopwords\n",
    "pd.set_option(\"display.max_colwidth\",200)\n",
    "import matplotlib\n",
    "import matplotlib.pyplot as plt\n",
    "%matplotlib inline\n",
    "from sklearn.decomposition import PCA"
   ]
  },
  {
   "cell_type": "code",
   "execution_count": 2,
   "metadata": {
    "collapsed": true
   },
   "outputs": [],
   "source": [
    "MAX_WORD_COUNT = 60\n",
    "N_OUT = 5\n",
    "BATCH_SIZE = 5\n",
    "HIDDEN_SIZE = 32\n",
    "NUM_LAYERS = 2\n",
    "INIT_SCALE = 0.05"
   ]
  },
  {
   "cell_type": "code",
   "execution_count": 3,
   "metadata": {
    "collapsed": false
   },
   "outputs": [
    {
     "data": {
      "text/html": [
       "<div>\n",
       "<style scoped>\n",
       "    .dataframe tbody tr th:only-of-type {\n",
       "        vertical-align: middle;\n",
       "    }\n",
       "\n",
       "    .dataframe tbody tr th {\n",
       "        vertical-align: top;\n",
       "    }\n",
       "\n",
       "    .dataframe thead th {\n",
       "        text-align: right;\n",
       "    }\n",
       "</style>\n",
       "<table border=\"1\" class=\"dataframe\">\n",
       "  <thead>\n",
       "    <tr style=\"text-align: right;\">\n",
       "      <th></th>\n",
       "      <th>PhraseId</th>\n",
       "      <th>SentenceId</th>\n",
       "      <th>Phrase</th>\n",
       "      <th>Sentiment</th>\n",
       "    </tr>\n",
       "  </thead>\n",
       "  <tbody>\n",
       "    <tr>\n",
       "      <th>0</th>\n",
       "      <td>1</td>\n",
       "      <td>1</td>\n",
       "      <td>A series of escapades demonstrating the adage that what is good for the goose is also good for the gander , some of which occasionally amuses but none of which amounts to much of a story .</td>\n",
       "      <td>1</td>\n",
       "    </tr>\n",
       "    <tr>\n",
       "      <th>1</th>\n",
       "      <td>2</td>\n",
       "      <td>1</td>\n",
       "      <td>A series of escapades demonstrating the adage that what is good for the goose</td>\n",
       "      <td>2</td>\n",
       "    </tr>\n",
       "    <tr>\n",
       "      <th>2</th>\n",
       "      <td>3</td>\n",
       "      <td>1</td>\n",
       "      <td>A series</td>\n",
       "      <td>2</td>\n",
       "    </tr>\n",
       "    <tr>\n",
       "      <th>3</th>\n",
       "      <td>4</td>\n",
       "      <td>1</td>\n",
       "      <td>A</td>\n",
       "      <td>2</td>\n",
       "    </tr>\n",
       "    <tr>\n",
       "      <th>4</th>\n",
       "      <td>5</td>\n",
       "      <td>1</td>\n",
       "      <td>series</td>\n",
       "      <td>2</td>\n",
       "    </tr>\n",
       "  </tbody>\n",
       "</table>\n",
       "</div>"
      ],
      "text/plain": [
       "   PhraseId  SentenceId  \\\n",
       "0         1           1   \n",
       "1         2           1   \n",
       "2         3           1   \n",
       "3         4           1   \n",
       "4         5           1   \n",
       "\n",
       "                                                                                                                                                                                         Phrase  \\\n",
       "0  A series of escapades demonstrating the adage that what is good for the goose is also good for the gander , some of which occasionally amuses but none of which amounts to much of a story .   \n",
       "1                                                                                                                 A series of escapades demonstrating the adage that what is good for the goose   \n",
       "2                                                                                                                                                                                      A series   \n",
       "3                                                                                                                                                                                             A   \n",
       "4                                                                                                                                                                                        series   \n",
       "\n",
       "   Sentiment  \n",
       "0          1  \n",
       "1          2  \n",
       "2          2  \n",
       "3          2  \n",
       "4          2  "
      ]
     },
     "execution_count": 3,
     "metadata": {},
     "output_type": "execute_result"
    }
   ],
   "source": [
    "fx = lambda x: pd.read_csv(x,delimiter=\"\\t\",header=0)\n",
    "train_df,test_df = map(fx, [\"train.tsv\",\"test.tsv\"])\n",
    "feat_names = train_df.columns.values\n",
    "train_df.head()"
   ]
  },
  {
   "cell_type": "markdown",
   "metadata": {},
   "source": [
    "# Get full sentences from data set"
   ]
  },
  {
   "cell_type": "code",
   "execution_count": 4,
   "metadata": {
    "collapsed": false
   },
   "outputs": [],
   "source": [
    "def group_max(group):\n",
    "    idx = np.where(group[\"Phrase\"].apply(len)==group[\"Phrase\"].apply(len).max())[0][0]\n",
    "    return group[\"Phrase\"].iloc[idx]\n",
    "df = train_df.groupby(\"SentenceId\").apply(group_max).values\n",
    "#remove_stop = lambda sentence: [word for word in sentence if word not in stopwords.words('english')]"
   ]
  },
  {
   "cell_type": "code",
   "execution_count": 10,
   "metadata": {
    "collapsed": false
   },
   "outputs": [
    {
     "data": {
      "text/html": [
       "<div>\n",
       "<style scoped>\n",
       "    .dataframe tbody tr th:only-of-type {\n",
       "        vertical-align: middle;\n",
       "    }\n",
       "\n",
       "    .dataframe tbody tr th {\n",
       "        vertical-align: top;\n",
       "    }\n",
       "\n",
       "    .dataframe thead th {\n",
       "        text-align: right;\n",
       "    }\n",
       "</style>\n",
       "<table border=\"1\" class=\"dataframe\">\n",
       "  <thead>\n",
       "    <tr style=\"text-align: right;\">\n",
       "      <th></th>\n",
       "      <th>0</th>\n",
       "    </tr>\n",
       "  </thead>\n",
       "  <tbody>\n",
       "    <tr>\n",
       "      <th>0</th>\n",
       "      <td>A series of escapades demonstrating the adage that what is good for the goose is also good for the gander , some of which occasionally amuses but none of which amounts to much of a story .</td>\n",
       "    </tr>\n",
       "    <tr>\n",
       "      <th>1</th>\n",
       "      <td>This quiet , introspective and entertaining independent is worth seeking .</td>\n",
       "    </tr>\n",
       "    <tr>\n",
       "      <th>2</th>\n",
       "      <td>Even fans of Ismail Merchant 's work , I suspect , would have a hard time sitting through this one .</td>\n",
       "    </tr>\n",
       "    <tr>\n",
       "      <th>3</th>\n",
       "      <td>A positively thrilling combination of ethnography and all the intrigue , betrayal , deceit and murder of a Shakespearean tragedy or a juicy soap opera .</td>\n",
       "    </tr>\n",
       "    <tr>\n",
       "      <th>4</th>\n",
       "      <td>Aggressive self-glorification and a manipulative whitewash .</td>\n",
       "    </tr>\n",
       "    <tr>\n",
       "      <th>5</th>\n",
       "      <td>A comedy-drama of nearly epic proportions rooted in a sincere performance by the title character undergoing midlife crisis .</td>\n",
       "    </tr>\n",
       "    <tr>\n",
       "      <th>6</th>\n",
       "      <td>Narratively , Trouble Every Day is a plodding mess .</td>\n",
       "    </tr>\n",
       "    <tr>\n",
       "      <th>7</th>\n",
       "      <td>The Importance of Being Earnest , so thick with wit it plays like a reading from Bartlett 's Familiar Quotations</td>\n",
       "    </tr>\n",
       "    <tr>\n",
       "      <th>8</th>\n",
       "      <td>But it does n't leave you with much .</td>\n",
       "    </tr>\n",
       "    <tr>\n",
       "      <th>9</th>\n",
       "      <td>You could hate it for the same reason .</td>\n",
       "    </tr>\n",
       "    <tr>\n",
       "      <th>10</th>\n",
       "      <td>There 's little to recommend Snow Dogs , unless one considers cliched dialogue and perverse escapism a source of high hilarity .</td>\n",
       "    </tr>\n",
       "    <tr>\n",
       "      <th>11</th>\n",
       "      <td>Kung Pow is Oedekerk 's realization of his childhood dream to be in a martial-arts flick , and proves that sometimes the dreams of youth should remain just that .</td>\n",
       "    </tr>\n",
       "    <tr>\n",
       "      <th>12</th>\n",
       "      <td>The performances are an absolute joy .</td>\n",
       "    </tr>\n",
       "    <tr>\n",
       "      <th>13</th>\n",
       "      <td>Fresnadillo has something serious to say about the ways in which extravagant chance can distort our perspective and throw us off the path of good sense .</td>\n",
       "    </tr>\n",
       "    <tr>\n",
       "      <th>14</th>\n",
       "      <td>I still like Moonlight Mile , better judgment be damned .</td>\n",
       "    </tr>\n",
       "    <tr>\n",
       "      <th>15</th>\n",
       "      <td>A welcome relief from baseball movies that try too hard to be mythic , this one is a sweet and modest and ultimately winning story .</td>\n",
       "    </tr>\n",
       "    <tr>\n",
       "      <th>16</th>\n",
       "      <td>a bilingual charmer , just like the woman who inspired it</td>\n",
       "    </tr>\n",
       "    <tr>\n",
       "      <th>17</th>\n",
       "      <td>Like a less dizzily gorgeous companion to Mr. Wong 's In the Mood for Love -- very much a Hong Kong movie despite its mainland setting .</td>\n",
       "    </tr>\n",
       "    <tr>\n",
       "      <th>18</th>\n",
       "      <td>As inept as big-screen remakes of The Avengers and The Wild Wild West .</td>\n",
       "    </tr>\n",
       "    <tr>\n",
       "      <th>19</th>\n",
       "      <td>It 's everything you 'd expect -- but nothing more .</td>\n",
       "    </tr>\n",
       "    <tr>\n",
       "      <th>20</th>\n",
       "      <td>Best indie of the year , so far .</td>\n",
       "    </tr>\n",
       "    <tr>\n",
       "      <th>21</th>\n",
       "      <td>Hatfield and Hicks make the oddest of couples , and in this sense the movie becomes a study of the gambles of the publishing world , offering a case study that exists apart from all the movie 's p...</td>\n",
       "    </tr>\n",
       "    <tr>\n",
       "      <th>22</th>\n",
       "      <td>It 's like going to a house party and watching the host defend himself against a frothing ex-girlfriend .</td>\n",
       "    </tr>\n",
       "    <tr>\n",
       "      <th>23</th>\n",
       "      <td>That the Chuck Norris `` grenade gag '' occurs about 7 times during Windtalkers is a good indication of how serious-minded the film is .</td>\n",
       "    </tr>\n",
       "    <tr>\n",
       "      <th>24</th>\n",
       "      <td>The plot is romantic comedy boilerplate from start to finish .</td>\n",
       "    </tr>\n",
       "    <tr>\n",
       "      <th>25</th>\n",
       "      <td>It arrives with an impeccable pedigree , mongrel pep , and almost indecipherable plot complications .</td>\n",
       "    </tr>\n",
       "    <tr>\n",
       "      <th>26</th>\n",
       "      <td>A film that clearly means to preach exclusively to the converted .</td>\n",
       "    </tr>\n",
       "    <tr>\n",
       "      <th>27</th>\n",
       "      <td>While The Importance of Being Earnest offers opportunities for occasional smiles and chuckles , it does n't give us a reason to be in the theater beyond Wilde 's wit and the actors ' performances .</td>\n",
       "    </tr>\n",
       "    <tr>\n",
       "      <th>28</th>\n",
       "      <td>The latest vapid actor 's exercise to appropriate the structure of Arthur Schnitzler 's Reigen .</td>\n",
       "    </tr>\n",
       "    <tr>\n",
       "      <th>29</th>\n",
       "      <td>More vaudeville show than well-constructed narrative , but on those terms it 's inoffensive and actually rather sweet .</td>\n",
       "    </tr>\n",
       "    <tr>\n",
       "      <th>...</th>\n",
       "      <td>...</td>\n",
       "    </tr>\n",
       "    <tr>\n",
       "      <th>470</th>\n",
       "      <td>Imagine a film that begins as a Seven rip-off , only to switch to a mix of The Shining , The Thing , and any naked teenagers horror flick from the 1980s .</td>\n",
       "    </tr>\n",
       "    <tr>\n",
       "      <th>471</th>\n",
       "      <td>Definitely funny stuff , but it 's more of the ` laughing at ' variety than the ` laughing with . '</td>\n",
       "    </tr>\n",
       "    <tr>\n",
       "      <th>472</th>\n",
       "      <td>A heartening tale of small victories and enduring hope .</td>\n",
       "    </tr>\n",
       "    <tr>\n",
       "      <th>473</th>\n",
       "      <td>An emotionally strong and politically potent piece of cinema .</td>\n",
       "    </tr>\n",
       "    <tr>\n",
       "      <th>474</th>\n",
       "      <td>An extremely unpleasant film .</td>\n",
       "    </tr>\n",
       "    <tr>\n",
       "      <th>475</th>\n",
       "      <td>More intellectually scary than dramatically involving .</td>\n",
       "    </tr>\n",
       "    <tr>\n",
       "      <th>476</th>\n",
       "      <td>A puzzling experience .</td>\n",
       "    </tr>\n",
       "    <tr>\n",
       "      <th>477</th>\n",
       "      <td>Jonah is only so-so ... the addition of a biblical message will either improve the film for you , or it will lessen it .</td>\n",
       "    </tr>\n",
       "    <tr>\n",
       "      <th>478</th>\n",
       "      <td>I hope the movie is widely seen and debated with appropriate ferocity and thoughtfulness .</td>\n",
       "    </tr>\n",
       "    <tr>\n",
       "      <th>479</th>\n",
       "      <td>Intelligent and moving .</td>\n",
       "    </tr>\n",
       "    <tr>\n",
       "      <th>480</th>\n",
       "      <td>This film is too busy hitting all of its assigned marks to take on any life of its own .</td>\n",
       "    </tr>\n",
       "    <tr>\n",
       "      <th>481</th>\n",
       "      <td>Mark Wahlberg ... may look classy in a '60s - homage pokepie hat , but as a character he 's dry , dry , dry .</td>\n",
       "    </tr>\n",
       "    <tr>\n",
       "      <th>482</th>\n",
       "      <td>The moral shrapnel and mental shellshock will linger long after this film has ended .</td>\n",
       "    </tr>\n",
       "    <tr>\n",
       "      <th>483</th>\n",
       "      <td>As Warren he stumbles in search of all the emotions and life experiences he 's neglected over the years .</td>\n",
       "    </tr>\n",
       "    <tr>\n",
       "      <th>484</th>\n",
       "      <td>It should have stayed there .</td>\n",
       "    </tr>\n",
       "    <tr>\n",
       "      <th>485</th>\n",
       "      <td>... in the pile of useless actioners from MTV schmucks who do n't know how to tell a story for more than four minutes .</td>\n",
       "    </tr>\n",
       "    <tr>\n",
       "      <th>486</th>\n",
       "      <td>It is not the first time that director Sara Sugarman stoops to having characters drop their pants for laughs and not the last time she fails to provoke them .</td>\n",
       "    </tr>\n",
       "    <tr>\n",
       "      <th>487</th>\n",
       "      <td>There 's no point of view , no contemporary interpretation of Joan 's prefeminist plight , so we 're left thinking the only reason to make the movie is because present standards allow for plenty o...</td>\n",
       "    </tr>\n",
       "    <tr>\n",
       "      <th>488</th>\n",
       "      <td>There is a strong directorial stamp on every frame of this stylish film that is able to visualize schizophrenia but is still confident enough to step back and look at the sick character with a san...</td>\n",
       "    </tr>\n",
       "    <tr>\n",
       "      <th>489</th>\n",
       "      <td>Romantic , riveting and handsomely animated .</td>\n",
       "    </tr>\n",
       "    <tr>\n",
       "      <th>490</th>\n",
       "      <td>This overproduced piece of dreck is shockingly bad and absolutely unnecessary .</td>\n",
       "    </tr>\n",
       "    <tr>\n",
       "      <th>491</th>\n",
       "      <td>As saccharine as it is disposable .</td>\n",
       "    </tr>\n",
       "    <tr>\n",
       "      <th>492</th>\n",
       "      <td>Captures the raw comic energy of one of our most flamboyant female comics .</td>\n",
       "    </tr>\n",
       "    <tr>\n",
       "      <th>493</th>\n",
       "      <td>A subtle , poignant picture of goodness that is flawed , compromised and sad .</td>\n",
       "    </tr>\n",
       "    <tr>\n",
       "      <th>494</th>\n",
       "      <td>An exceptionally acted , quietly affecting cop drama .</td>\n",
       "    </tr>\n",
       "    <tr>\n",
       "      <th>495</th>\n",
       "      <td>Even in the summertime , the most restless young audience deserves the dignity of an action hero motivated by something more than franchise possibilities .</td>\n",
       "    </tr>\n",
       "    <tr>\n",
       "      <th>496</th>\n",
       "      <td>Perfectly pitched between comedy and tragedy , hope and despair , About Schmidt instead comes far closer than many movies to expressing the way many of us live -- someplace between consuming self-...</td>\n",
       "    </tr>\n",
       "    <tr>\n",
       "      <th>497</th>\n",
       "      <td>She nearly glows with enthusiasm , sensuality and a conniving wit .</td>\n",
       "    </tr>\n",
       "    <tr>\n",
       "      <th>498</th>\n",
       "      <td>Despite modest aspirations its occasional charms are not to be dismissed .</td>\n",
       "    </tr>\n",
       "    <tr>\n",
       "      <th>499</th>\n",
       "      <td>So exaggerated and broad that it comes off as annoying rather than charming .</td>\n",
       "    </tr>\n",
       "  </tbody>\n",
       "</table>\n",
       "<p>500 rows × 1 columns</p>\n",
       "</div>"
      ],
      "text/plain": [
       "                                                                                                                                                                                                           0\n",
       "0               A series of escapades demonstrating the adage that what is good for the goose is also good for the gander , some of which occasionally amuses but none of which amounts to much of a story .\n",
       "1                                                                                                                                 This quiet , introspective and entertaining independent is worth seeking .\n",
       "2                                                                                                       Even fans of Ismail Merchant 's work , I suspect , would have a hard time sitting through this one .\n",
       "3                                                   A positively thrilling combination of ethnography and all the intrigue , betrayal , deceit and murder of a Shakespearean tragedy or a juicy soap opera .\n",
       "4                                                                                                                                               Aggressive self-glorification and a manipulative whitewash .\n",
       "5                                                                               A comedy-drama of nearly epic proportions rooted in a sincere performance by the title character undergoing midlife crisis .\n",
       "6                                                                                                                                                       Narratively , Trouble Every Day is a plodding mess .\n",
       "7                                                                                           The Importance of Being Earnest , so thick with wit it plays like a reading from Bartlett 's Familiar Quotations\n",
       "8                                                                                                                                                                      But it does n't leave you with much .\n",
       "9                                                                                                                                                                    You could hate it for the same reason .\n",
       "10                                                                          There 's little to recommend Snow Dogs , unless one considers cliched dialogue and perverse escapism a source of high hilarity .\n",
       "11                                        Kung Pow is Oedekerk 's realization of his childhood dream to be in a martial-arts flick , and proves that sometimes the dreams of youth should remain just that .\n",
       "12                                                                                                                                                                    The performances are an absolute joy .\n",
       "13                                                 Fresnadillo has something serious to say about the ways in which extravagant chance can distort our perspective and throw us off the path of good sense .\n",
       "14                                                                                                                                                 I still like Moonlight Mile , better judgment be damned .\n",
       "15                                                                      A welcome relief from baseball movies that try too hard to be mythic , this one is a sweet and modest and ultimately winning story .\n",
       "16                                                                                                                                                 a bilingual charmer , just like the woman who inspired it\n",
       "17                                                                  Like a less dizzily gorgeous companion to Mr. Wong 's In the Mood for Love -- very much a Hong Kong movie despite its mainland setting .\n",
       "18                                                                                                                                   As inept as big-screen remakes of The Avengers and The Wild Wild West .\n",
       "19                                                                                                                                                      It 's everything you 'd expect -- but nothing more .\n",
       "20                                                                                                                                                                         Best indie of the year , so far .\n",
       "21   Hatfield and Hicks make the oddest of couples , and in this sense the movie becomes a study of the gambles of the publishing world , offering a case study that exists apart from all the movie 's p...\n",
       "22                                                                                                 It 's like going to a house party and watching the host defend himself against a frothing ex-girlfriend .\n",
       "23                                                                  That the Chuck Norris `` grenade gag '' occurs about 7 times during Windtalkers is a good indication of how serious-minded the film is .\n",
       "24                                                                                                                                            The plot is romantic comedy boilerplate from start to finish .\n",
       "25                                                                                                     It arrives with an impeccable pedigree , mongrel pep , and almost indecipherable plot complications .\n",
       "26                                                                                                                                        A film that clearly means to preach exclusively to the converted .\n",
       "27     While The Importance of Being Earnest offers opportunities for occasional smiles and chuckles , it does n't give us a reason to be in the theater beyond Wilde 's wit and the actors ' performances .\n",
       "28                                                                                                          The latest vapid actor 's exercise to appropriate the structure of Arthur Schnitzler 's Reigen .\n",
       "29                                                                                   More vaudeville show than well-constructed narrative , but on those terms it 's inoffensive and actually rather sweet .\n",
       "..                                                                                                                                                                                                       ...\n",
       "470                                               Imagine a film that begins as a Seven rip-off , only to switch to a mix of The Shining , The Thing , and any naked teenagers horror flick from the 1980s .\n",
       "471                                                                                                      Definitely funny stuff , but it 's more of the ` laughing at ' variety than the ` laughing with . '\n",
       "472                                                                                                                                                 A heartening tale of small victories and enduring hope .\n",
       "473                                                                                                                                           An emotionally strong and politically potent piece of cinema .\n",
       "474                                                                                                                                                                           An extremely unpleasant film .\n",
       "475                                                                                                                                                  More intellectually scary than dramatically involving .\n",
       "476                                                                                                                                                                                  A puzzling experience .\n",
       "477                                                                                 Jonah is only so-so ... the addition of a biblical message will either improve the film for you , or it will lessen it .\n",
       "478                                                                                                               I hope the movie is widely seen and debated with appropriate ferocity and thoughtfulness .\n",
       "479                                                                                                                                                                                 Intelligent and moving .\n",
       "480                                                                                                                 This film is too busy hitting all of its assigned marks to take on any life of its own .\n",
       "481                                                                                            Mark Wahlberg ... may look classy in a '60s - homage pokepie hat , but as a character he 's dry , dry , dry .\n",
       "482                                                                                                                    The moral shrapnel and mental shellshock will linger long after this film has ended .\n",
       "483                                                                                                As Warren he stumbles in search of all the emotions and life experiences he 's neglected over the years .\n",
       "484                                                                                                                                                                            It should have stayed there .\n",
       "485                                                                                  ... in the pile of useless actioners from MTV schmucks who do n't know how to tell a story for more than four minutes .\n",
       "486                                           It is not the first time that director Sara Sugarman stoops to having characters drop their pants for laughs and not the last time she fails to provoke them .\n",
       "487  There 's no point of view , no contemporary interpretation of Joan 's prefeminist plight , so we 're left thinking the only reason to make the movie is because present standards allow for plenty o...\n",
       "488  There is a strong directorial stamp on every frame of this stylish film that is able to visualize schizophrenia but is still confident enough to step back and look at the sick character with a san...\n",
       "489                                                                                                                                                            Romantic , riveting and handsomely animated .\n",
       "490                                                                                                                          This overproduced piece of dreck is shockingly bad and absolutely unnecessary .\n",
       "491                                                                                                                                                                      As saccharine as it is disposable .\n",
       "492                                                                                                                              Captures the raw comic energy of one of our most flamboyant female comics .\n",
       "493                                                                                                                           A subtle , poignant picture of goodness that is flawed , compromised and sad .\n",
       "494                                                                                                                                                   An exceptionally acted , quietly affecting cop drama .\n",
       "495                                              Even in the summertime , the most restless young audience deserves the dignity of an action hero motivated by something more than franchise possibilities .\n",
       "496  Perfectly pitched between comedy and tragedy , hope and despair , About Schmidt instead comes far closer than many movies to expressing the way many of us live -- someplace between consuming self-...\n",
       "497                                                                                                                                      She nearly glows with enthusiasm , sensuality and a conniving wit .\n",
       "498                                                                                                                               Despite modest aspirations its occasional charms are not to be dismissed .\n",
       "499                                                                                                                            So exaggerated and broad that it comes off as annoying rather than charming .\n",
       "\n",
       "[500 rows x 1 columns]"
      ]
     },
     "execution_count": 10,
     "metadata": {},
     "output_type": "execute_result"
    }
   ],
   "source": [
    "df = df[:500]\n",
    "pd.DataFrame(df)"
   ]
  },
  {
   "cell_type": "code",
   "execution_count": 11,
   "metadata": {
    "collapsed": false
   },
   "outputs": [
    {
     "name": "stdout",
     "output_type": "stream",
     "text": [
      "There are 2905 unique words in data set.\n"
     ]
    }
   ],
   "source": [
    "n_sentences = df.shape[0]\n",
    "Tokenizer = text.Tokenizer()\n",
    "Tokenizer.fit_on_texts(df)\n",
    "inverse_tokenizer = lambda num: list(Tokenizer.word_index.keys())[list(Tokenizer.word_index.values()).index(num)] #inverse\n",
    "inverse_tokenizer_sentence = lambda sentence: list(map(inverse_tokenizer,sentence))\n",
    "vocab_size = len(Tokenizer.word_index) + 1\n",
    "print(\"There are {0} unique words in data set.\".format(vocab_size))"
   ]
  },
  {
   "cell_type": "code",
   "execution_count": 12,
   "metadata": {
    "collapsed": false
   },
   "outputs": [
    {
     "name": "stdout",
     "output_type": "stream",
     "text": [
      "This quiet , introspective and entertaining independent is worth seeking .\n",
      "[19, 305, 854, 4, 227, 855, 6, 186, 856]\n",
      "['this', 'quiet', 'introspective', 'and', 'entertaining', 'independent', 'is', 'worth', 'seeking']\n"
     ]
    }
   ],
   "source": [
    "words = Tokenizer.word_index.keys()\n",
    "encoded_text = Tokenizer.texts_to_sequences(df)\n",
    "obs = 1\n",
    "print(df[obs])\n",
    "print(encoded_text[obs])\n",
    "print(inverse_tokenizer_sentence(encoded_text[obs]))"
   ]
  },
  {
   "cell_type": "code",
   "execution_count": 13,
   "metadata": {
    "collapsed": false
   },
   "outputs": [],
   "source": [
    "def data_gen():\n",
    "    i = k = 0\n",
    "    batch = np.zeros((BATCH_SIZE,2)).astype(np.int32)\n",
    "    while True:\n",
    "        rng.shuffle(df) # shuffle after epoch\n",
    "        sentence = encoded_text[i]\n",
    "        sentence_len = len(sentence)\n",
    "        if sentence_len < 2:\n",
    "            i+=1\n",
    "            continue\n",
    "        for j in range(sentence_len):\n",
    "            context = sentence[j]\n",
    "\n",
    "            if j == 0:\n",
    "                target = sentence[j+1]\n",
    "            elif j == sentence_len - 1:\n",
    "                target = sentence[j-1]\n",
    "            elif rng.uniform() < 0.5:\n",
    "                target = sentence[j-1]\n",
    "            else:\n",
    "                target = sentence[j+1]\n",
    "\n",
    "            batch[k,0] = context\n",
    "            batch[k,1] = target\n",
    "            if k == BATCH_SIZE - 1:\n",
    "                k = 0\n",
    "                yield batch\n",
    "                batch = np.zeros((BATCH_SIZE,2)).astype(np.int32)\n",
    "            else:\n",
    "                k+=1\n",
    "        i+=1\n",
    "        if i == len(encoded_text):\n",
    "            #print(\"Finished Epoch\")\n",
    "            i = 0\n",
    "                "
   ]
  },
  {
   "cell_type": "markdown",
   "metadata": {},
   "source": [
    "## Embedding layer - Turns positive integers (indexes) into dense vectors of fixed size”"
   ]
  },
  {
   "cell_type": "code",
   "execution_count": 40,
   "metadata": {
    "collapsed": false
   },
   "outputs": [
    {
     "data": {
      "text/plain": [
       "<tf.Tensor 'add_2:0' shape=(2905,) dtype=float32>"
      ]
     },
     "execution_count": 40,
     "metadata": {},
     "output_type": "execute_result"
    }
   ],
   "source": []
  },
  {
   "cell_type": "code",
   "execution_count": 55,
   "metadata": {
    "collapsed": false
   },
   "outputs": [],
   "source": [
    "NUM_STEPS = MAX_WORD_COUNT\n",
    "train_inputs = tf.placeholder(tf.int32,shape=[None])\n",
    "train_labels = tf.placeholder(tf.int32,shape=[None,1])\n",
    "embeddings = tf.Variable(tf.random_uniform([vocab_size, HIDDEN_SIZE])) # NUmber of words by hidden\n",
    "embed = tf.nn.embedding_lookup(embeddings, train_inputs) #lookup action on the embedding tensor, where each word in the input data set is matched with a row in the embedding tensor, with the matched embedding vector being returned within inputs.\n",
    "\n",
    "#loss\n",
    "num_sampled = 1\n",
    "nce_weights = tf.Variable(\n",
    "  tf.truncated_normal([vocab_size, HIDDEN_SIZE],\n",
    "                      stddev=1.0 / np.sqrt(HIDDEN_SIZE)))\n",
    "nce_biases = tf.Variable(tf.zeros([vocab_size]))\n",
    "logits = tf.reduce_sum(tf.multiply(embeddings,nce_weights),1) + nce_biases\n",
    "loss = tf.reduce_mean(\n",
    "  tf.nn.nce_loss(weights=nce_weights,\n",
    "                 biases=nce_biases,\n",
    "                 labels=train_labels,\n",
    "                 inputs=embed,\n",
    "                 num_sampled=num_sampled,\n",
    "                 num_classes=vocab_size))\n",
    "\n",
    "optimizer = tf.train.GradientDescentOptimizer(learning_rate=0.3).minimize(loss)\n",
    "saver = tf.train.Saver()"
   ]
  },
  {
   "cell_type": "code",
   "execution_count": 56,
   "metadata": {
    "collapsed": false,
    "scrolled": true
   },
   "outputs": [
    {
     "name": "stdout",
     "output_type": "stream",
     "text": [
      "0 of 30000 with loss of 4.886\n",
      "1000 of 30000 with loss of 4.803\n",
      "2000 of 30000 with loss of 3.750\n",
      "3000 of 30000 with loss of 3.497\n",
      "4000 of 30000 with loss of 3.161\n",
      "5000 of 30000 with loss of 3.260\n",
      "6000 of 30000 with loss of 2.761\n",
      "7000 of 30000 with loss of 2.839\n",
      "8000 of 30000 with loss of 2.715\n",
      "9000 of 30000 with loss of 2.614\n",
      "10000 of 30000 with loss of 2.591\n",
      "11000 of 30000 with loss of 2.384\n",
      "12000 of 30000 with loss of 2.382\n",
      "13000 of 30000 with loss of 2.120\n",
      "14000 of 30000 with loss of 2.306\n",
      "15000 of 30000 with loss of 2.183\n",
      "16000 of 30000 with loss of 2.124\n",
      "17000 of 30000 with loss of 2.108\n",
      "18000 of 30000 with loss of 2.099\n",
      "19000 of 30000 with loss of 1.909\n",
      "20000 of 30000 with loss of 1.797\n",
      "21000 of 30000 with loss of 1.786\n",
      "22000 of 30000 with loss of 1.722\n",
      "23000 of 30000 with loss of 1.782\n",
      "24000 of 30000 with loss of 1.629\n",
      "25000 of 30000 with loss of 1.667\n",
      "26000 of 30000 with loss of 1.512\n",
      "27000 of 30000 with loss of 1.666\n",
      "28000 of 30000 with loss of 1.628\n",
      "29000 of 30000 with loss of 1.570\n"
     ]
    }
   ],
   "source": [
    "n = 30000\n",
    "with tf.Session() as sess:\n",
    "    init = tf.global_variables_initializer()\n",
    "    sess.run(init)\n",
    "    generate_batch = data_gen()\n",
    "    cur_losses = []\n",
    "    for i in range(n):\n",
    "        data = next(generate_batch)\n",
    "        feed_dict = {train_inputs: data[:,0],train_labels:data[:,[1]]}\n",
    "        _, cur_loss = sess.run([optimizer, loss], feed_dict=feed_dict)\n",
    "        cur_losses.append(cur_loss)\n",
    "        if i % 1000 == 0:\n",
    "            print(\"{0} of {1} with loss of {2:.3f}\".format(i,n,np.mean(cur_losses)))\n",
    "            cur_losses = []\n",
    "    save_path = saver.save(sess, \"/tmp/model.ckpt\")\n",
    "    idx = np.arange(1,vocab_size)\n",
    "    learnt_embed = embed.eval(feed_dict={train_inputs:idx})\n"
   ]
  },
  {
   "cell_type": "code",
   "execution_count": 21,
   "metadata": {
    "collapsed": false
   },
   "outputs": [],
   "source": [
    "pca = PCA(n_components=2)\n",
    "X_embedded = pca.fit_transform(learnt_embed)\n",
    "labels = inverse_tokenizer_sentence(idx)"
   ]
  },
  {
   "cell_type": "code",
   "execution_count": 96,
   "metadata": {
    "collapsed": false,
    "scrolled": false
   },
   "outputs": [
    {
     "name": "stdout",
     "output_type": "stream",
     "text": [
      "INFO:tensorflow:Restoring parameters from /tmp/model.ckpt\n",
      "the\n"
     ]
    }
   ],
   "source": [
    "with tf.Session() as sess:\n",
    "    saver.restore(sess, \"/tmp/model.ckpt\")\n",
    "    word = 1\n",
    "    print(inverse_tokenizer(word))\n",
    "    logits_ = logits.eval(feed_dict={train_inputs:np.array([word])})"
   ]
  },
  {
   "cell_type": "code",
   "execution_count": 18,
   "metadata": {
    "collapsed": false
   },
   "outputs": [
    {
     "data": {
      "image/png": "[encoded data removed]",
      "text/plain": [
       "<Figure size 432x288 with 1 Axes>"
      ]
     },
     "metadata": {},
     "output_type": "display_data"
    }
   ],
   "source": [
    "plt.scatter(X_embedded[:, 0], X_embedded[:, 1], marker='o',\n",
    "    cmap=plt.get_cmap('Spectral'))\n",
    "for label, x, y in zip(labels, X_embedded[:, 0], X_embedded[:, 1]):\n",
    "    plt.annotate(\n",
    "        label,\n",
    "        xy=(x, y), xytext=(-20, 20),\n",
    "        textcoords='offset points', ha='right', va='bottom',\n",
    "        bbox=dict(boxstyle='round,pad=0.05', fc='yellow', alpha=0.5))\n",
    "        #arrowprops=dict(arrowstyle = '->', connectionstyle='arc3,rad=0'))"
   ]
  },
  {
   "cell_type": "code",
   "execution_count": null,
   "metadata": {
    "collapsed": true
   },
   "outputs": [],
   "source": []
  },
  {
   "cell_type": "code",
   "execution_count": null,
   "metadata": {
    "collapsed": true
   },
   "outputs": [],
   "source": []
  }
 ],
 "metadata": {
  "anaconda-cloud": {},
  "kernelspec": {
   "display_name": "venv",
   "language": "python",
   "name": "venv"
  },
  "language_info": {
   "codemirror_mode": {
    "name": "ipython",
    "version": 3
   },
   "file_extension": ".py",
   "mimetype": "text/x-python",
   "name": "python",
   "nbconvert_exporter": "python",
   "pygments_lexer": "ipython3",
   "version": "3.5.2"
  }
 },
 "nbformat": 4,
 "nbformat_minor": 2
}
